{
 "cells": [
  {
   "cell_type": "markdown",
   "metadata": {},
   "source": [
    "# Analysis Report"
   ]
  },
  {
   "cell_type": "markdown",
   "metadata": {},
   "source": [
    "## Step 1: Analyzing Raw Data"
   ]
  },
  {
   "cell_type": "code",
   "execution_count": 1,
   "metadata": {},
   "outputs": [],
   "source": [
    "BodyFat = read.csv(\"BodyFat.csv\")"
   ]
  },
  {
   "cell_type": "code",
   "execution_count": 2,
   "metadata": {},
   "outputs": [
    {
     "data": {
      "text/html": [
       "<table>\n",
       "<thead><tr><th scope=col>IDNO</th><th scope=col>BODYFAT</th><th scope=col>DENSITY</th><th scope=col>AGE</th><th scope=col>WEIGHT</th><th scope=col>HEIGHT</th><th scope=col>ADIPOSITY</th><th scope=col>NECK</th><th scope=col>CHEST</th><th scope=col>ABDOMEN</th><th scope=col>HIP</th><th scope=col>THIGH</th><th scope=col>KNEE</th><th scope=col>ANKLE</th><th scope=col>BICEPS</th><th scope=col>FOREARM</th><th scope=col>WRIST</th></tr></thead>\n",
       "<tbody>\n",
       "\t<tr><td>1     </td><td>12.6  </td><td>1.0708</td><td>23    </td><td>154.25</td><td>67.75 </td><td>23.7  </td><td>36.2  </td><td> 93.1 </td><td> 85.2 </td><td> 94.5 </td><td>59.0  </td><td>37.3  </td><td>21.9  </td><td>32.0  </td><td>27.4  </td><td>17.1  </td></tr>\n",
       "\t<tr><td>2     </td><td> 6.9  </td><td>1.0853</td><td>22    </td><td>173.25</td><td>72.25 </td><td>23.4  </td><td>38.5  </td><td> 93.6 </td><td> 83.0 </td><td> 98.7 </td><td>58.7  </td><td>37.3  </td><td>23.4  </td><td>30.5  </td><td>28.9  </td><td>18.2  </td></tr>\n",
       "\t<tr><td>3     </td><td>24.6  </td><td>1.0414</td><td>22    </td><td>154.00</td><td>66.25 </td><td>24.7  </td><td>34.0  </td><td> 95.8 </td><td> 87.9 </td><td> 99.2 </td><td>59.6  </td><td>38.9  </td><td>24.0  </td><td>28.8  </td><td>25.2  </td><td>16.6  </td></tr>\n",
       "\t<tr><td>4     </td><td>10.9  </td><td>1.0751</td><td>26    </td><td>184.75</td><td>72.25 </td><td>24.9  </td><td>37.4  </td><td>101.8 </td><td> 86.4 </td><td>101.2 </td><td>60.1  </td><td>37.3  </td><td>22.8  </td><td>32.4  </td><td>29.4  </td><td>18.2  </td></tr>\n",
       "\t<tr><td>5     </td><td>27.8  </td><td>1.0340</td><td>24    </td><td>184.25</td><td>71.25 </td><td>25.6  </td><td>34.4  </td><td> 97.3 </td><td>100.0 </td><td>101.9 </td><td>63.2  </td><td>42.2  </td><td>24.0  </td><td>32.2  </td><td>27.7  </td><td>17.7  </td></tr>\n",
       "\t<tr><td>6     </td><td>20.6  </td><td>1.0502</td><td>24    </td><td>210.25</td><td>74.75 </td><td>26.5  </td><td>39.0  </td><td>104.5 </td><td> 94.4 </td><td>107.8 </td><td>66.0  </td><td>42.0  </td><td>25.6  </td><td>35.7  </td><td>30.6  </td><td>18.8  </td></tr>\n",
       "</tbody>\n",
       "</table>\n"
      ],
      "text/latex": [
       "\\begin{tabular}{r|lllllllllllllllll}\n",
       " IDNO & BODYFAT & DENSITY & AGE & WEIGHT & HEIGHT & ADIPOSITY & NECK & CHEST & ABDOMEN & HIP & THIGH & KNEE & ANKLE & BICEPS & FOREARM & WRIST\\\\\n",
       "\\hline\n",
       "\t 1      & 12.6   & 1.0708 & 23     & 154.25 & 67.75  & 23.7   & 36.2   &  93.1  &  85.2  &  94.5  & 59.0   & 37.3   & 21.9   & 32.0   & 27.4   & 17.1  \\\\\n",
       "\t 2      &  6.9   & 1.0853 & 22     & 173.25 & 72.25  & 23.4   & 38.5   &  93.6  &  83.0  &  98.7  & 58.7   & 37.3   & 23.4   & 30.5   & 28.9   & 18.2  \\\\\n",
       "\t 3      & 24.6   & 1.0414 & 22     & 154.00 & 66.25  & 24.7   & 34.0   &  95.8  &  87.9  &  99.2  & 59.6   & 38.9   & 24.0   & 28.8   & 25.2   & 16.6  \\\\\n",
       "\t 4      & 10.9   & 1.0751 & 26     & 184.75 & 72.25  & 24.9   & 37.4   & 101.8  &  86.4  & 101.2  & 60.1   & 37.3   & 22.8   & 32.4   & 29.4   & 18.2  \\\\\n",
       "\t 5      & 27.8   & 1.0340 & 24     & 184.25 & 71.25  & 25.6   & 34.4   &  97.3  & 100.0  & 101.9  & 63.2   & 42.2   & 24.0   & 32.2   & 27.7   & 17.7  \\\\\n",
       "\t 6      & 20.6   & 1.0502 & 24     & 210.25 & 74.75  & 26.5   & 39.0   & 104.5  &  94.4  & 107.8  & 66.0   & 42.0   & 25.6   & 35.7   & 30.6   & 18.8  \\\\\n",
       "\\end{tabular}\n"
      ],
      "text/markdown": [
       "\n",
       "| IDNO | BODYFAT | DENSITY | AGE | WEIGHT | HEIGHT | ADIPOSITY | NECK | CHEST | ABDOMEN | HIP | THIGH | KNEE | ANKLE | BICEPS | FOREARM | WRIST |\n",
       "|---|---|---|---|---|---|---|---|---|---|---|---|---|---|---|---|---|\n",
       "| 1      | 12.6   | 1.0708 | 23     | 154.25 | 67.75  | 23.7   | 36.2   |  93.1  |  85.2  |  94.5  | 59.0   | 37.3   | 21.9   | 32.0   | 27.4   | 17.1   |\n",
       "| 2      |  6.9   | 1.0853 | 22     | 173.25 | 72.25  | 23.4   | 38.5   |  93.6  |  83.0  |  98.7  | 58.7   | 37.3   | 23.4   | 30.5   | 28.9   | 18.2   |\n",
       "| 3      | 24.6   | 1.0414 | 22     | 154.00 | 66.25  | 24.7   | 34.0   |  95.8  |  87.9  |  99.2  | 59.6   | 38.9   | 24.0   | 28.8   | 25.2   | 16.6   |\n",
       "| 4      | 10.9   | 1.0751 | 26     | 184.75 | 72.25  | 24.9   | 37.4   | 101.8  |  86.4  | 101.2  | 60.1   | 37.3   | 22.8   | 32.4   | 29.4   | 18.2   |\n",
       "| 5      | 27.8   | 1.0340 | 24     | 184.25 | 71.25  | 25.6   | 34.4   |  97.3  | 100.0  | 101.9  | 63.2   | 42.2   | 24.0   | 32.2   | 27.7   | 17.7   |\n",
       "| 6      | 20.6   | 1.0502 | 24     | 210.25 | 74.75  | 26.5   | 39.0   | 104.5  |  94.4  | 107.8  | 66.0   | 42.0   | 25.6   | 35.7   | 30.6   | 18.8   |\n",
       "\n"
      ],
      "text/plain": [
       "  IDNO BODYFAT DENSITY AGE WEIGHT HEIGHT ADIPOSITY NECK CHEST ABDOMEN HIP  \n",
       "1 1    12.6    1.0708  23  154.25 67.75  23.7      36.2  93.1  85.2    94.5\n",
       "2 2     6.9    1.0853  22  173.25 72.25  23.4      38.5  93.6  83.0    98.7\n",
       "3 3    24.6    1.0414  22  154.00 66.25  24.7      34.0  95.8  87.9    99.2\n",
       "4 4    10.9    1.0751  26  184.75 72.25  24.9      37.4 101.8  86.4   101.2\n",
       "5 5    27.8    1.0340  24  184.25 71.25  25.6      34.4  97.3 100.0   101.9\n",
       "6 6    20.6    1.0502  24  210.25 74.75  26.5      39.0 104.5  94.4   107.8\n",
       "  THIGH KNEE ANKLE BICEPS FOREARM WRIST\n",
       "1 59.0  37.3 21.9  32.0   27.4    17.1 \n",
       "2 58.7  37.3 23.4  30.5   28.9    18.2 \n",
       "3 59.6  38.9 24.0  28.8   25.2    16.6 \n",
       "4 60.1  37.3 22.8  32.4   29.4    18.2 \n",
       "5 63.2  42.2 24.0  32.2   27.7    17.7 \n",
       "6 66.0  42.0 25.6  35.7   30.6    18.8 "
      ]
     },
     "metadata": {},
     "output_type": "display_data"
    }
   ],
   "source": [
    "head(BodyFat)"
   ]
  },
  {
   "cell_type": "code",
   "execution_count": 3,
   "metadata": {},
   "outputs": [
    {
     "data": {
      "text/html": [
       "<table>\n",
       "<thead><tr><th></th><th scope=col>IDNO</th><th scope=col>BODYFAT</th><th scope=col>DENSITY</th><th scope=col>AGE</th><th scope=col>WEIGHT</th><th scope=col>HEIGHT</th><th scope=col>ADIPOSITY</th><th scope=col>NECK</th><th scope=col>CHEST</th><th scope=col>ABDOMEN</th><th scope=col>HIP</th><th scope=col>THIGH</th><th scope=col>KNEE</th><th scope=col>ANKLE</th><th scope=col>BICEPS</th><th scope=col>FOREARM</th><th scope=col>WRIST</th></tr></thead>\n",
       "<tbody>\n",
       "\t<tr><th scope=row>247</th><td>247   </td><td>29.1  </td><td>1.0308</td><td>69    </td><td>215.50</td><td>70.50 </td><td>30.5  </td><td>40.8  </td><td>113.7 </td><td>107.6 </td><td>110.0 </td><td>63.3  </td><td>44.0  </td><td>22.6  </td><td>37.5  </td><td>32.6  </td><td>18.8  </td></tr>\n",
       "\t<tr><th scope=row>248</th><td>248   </td><td>11.5  </td><td>1.0736</td><td>70    </td><td>134.25</td><td>67.00 </td><td>21.1  </td><td>34.9  </td><td> 89.2 </td><td> 83.6 </td><td> 88.8 </td><td>49.6  </td><td>34.8  </td><td>21.5  </td><td>25.6  </td><td>25.7  </td><td>18.5  </td></tr>\n",
       "\t<tr><th scope=row>249</th><td>249   </td><td>32.3  </td><td>1.0236</td><td>72    </td><td>201.00</td><td>69.75 </td><td>29.1  </td><td>40.9  </td><td>108.5 </td><td>105.0 </td><td>104.5 </td><td>59.6  </td><td>40.8  </td><td>23.2  </td><td>35.2  </td><td>28.6  </td><td>20.1  </td></tr>\n",
       "\t<tr><th scope=row>250</th><td>250   </td><td>28.3  </td><td>1.0328</td><td>72    </td><td>186.75</td><td>66.00 </td><td>30.2  </td><td>38.9  </td><td>111.1 </td><td>111.5 </td><td>101.7 </td><td>60.3  </td><td>37.3  </td><td>21.5  </td><td>31.3  </td><td>27.2  </td><td>18.0  </td></tr>\n",
       "\t<tr><th scope=row>251</th><td>251   </td><td>25.3  </td><td>1.0399</td><td>72    </td><td>190.75</td><td>70.50 </td><td>27.0  </td><td>38.9  </td><td>108.3 </td><td>101.3 </td><td> 97.8 </td><td>56.0  </td><td>41.6  </td><td>22.7  </td><td>30.5  </td><td>29.4  </td><td>19.8  </td></tr>\n",
       "\t<tr><th scope=row>252</th><td>252   </td><td>30.7  </td><td>1.0271</td><td>74    </td><td>207.50</td><td>70.00 </td><td>29.8  </td><td>40.8  </td><td>112.4 </td><td>108.5 </td><td>107.1 </td><td>59.3  </td><td>42.2  </td><td>24.6  </td><td>33.7  </td><td>30.0  </td><td>20.9  </td></tr>\n",
       "</tbody>\n",
       "</table>\n"
      ],
      "text/latex": [
       "\\begin{tabular}{r|lllllllllllllllll}\n",
       "  & IDNO & BODYFAT & DENSITY & AGE & WEIGHT & HEIGHT & ADIPOSITY & NECK & CHEST & ABDOMEN & HIP & THIGH & KNEE & ANKLE & BICEPS & FOREARM & WRIST\\\\\n",
       "\\hline\n",
       "\t247 & 247    & 29.1   & 1.0308 & 69     & 215.50 & 70.50  & 30.5   & 40.8   & 113.7  & 107.6  & 110.0  & 63.3   & 44.0   & 22.6   & 37.5   & 32.6   & 18.8  \\\\\n",
       "\t248 & 248    & 11.5   & 1.0736 & 70     & 134.25 & 67.00  & 21.1   & 34.9   &  89.2  &  83.6  &  88.8  & 49.6   & 34.8   & 21.5   & 25.6   & 25.7   & 18.5  \\\\\n",
       "\t249 & 249    & 32.3   & 1.0236 & 72     & 201.00 & 69.75  & 29.1   & 40.9   & 108.5  & 105.0  & 104.5  & 59.6   & 40.8   & 23.2   & 35.2   & 28.6   & 20.1  \\\\\n",
       "\t250 & 250    & 28.3   & 1.0328 & 72     & 186.75 & 66.00  & 30.2   & 38.9   & 111.1  & 111.5  & 101.7  & 60.3   & 37.3   & 21.5   & 31.3   & 27.2   & 18.0  \\\\\n",
       "\t251 & 251    & 25.3   & 1.0399 & 72     & 190.75 & 70.50  & 27.0   & 38.9   & 108.3  & 101.3  &  97.8  & 56.0   & 41.6   & 22.7   & 30.5   & 29.4   & 19.8  \\\\\n",
       "\t252 & 252    & 30.7   & 1.0271 & 74     & 207.50 & 70.00  & 29.8   & 40.8   & 112.4  & 108.5  & 107.1  & 59.3   & 42.2   & 24.6   & 33.7   & 30.0   & 20.9  \\\\\n",
       "\\end{tabular}\n"
      ],
      "text/markdown": [
       "\n",
       "| <!--/--> | IDNO | BODYFAT | DENSITY | AGE | WEIGHT | HEIGHT | ADIPOSITY | NECK | CHEST | ABDOMEN | HIP | THIGH | KNEE | ANKLE | BICEPS | FOREARM | WRIST |\n",
       "|---|---|---|---|---|---|---|---|---|---|---|---|---|---|---|---|---|---|\n",
       "| 247 | 247    | 29.1   | 1.0308 | 69     | 215.50 | 70.50  | 30.5   | 40.8   | 113.7  | 107.6  | 110.0  | 63.3   | 44.0   | 22.6   | 37.5   | 32.6   | 18.8   |\n",
       "| 248 | 248    | 11.5   | 1.0736 | 70     | 134.25 | 67.00  | 21.1   | 34.9   |  89.2  |  83.6  |  88.8  | 49.6   | 34.8   | 21.5   | 25.6   | 25.7   | 18.5   |\n",
       "| 249 | 249    | 32.3   | 1.0236 | 72     | 201.00 | 69.75  | 29.1   | 40.9   | 108.5  | 105.0  | 104.5  | 59.6   | 40.8   | 23.2   | 35.2   | 28.6   | 20.1   |\n",
       "| 250 | 250    | 28.3   | 1.0328 | 72     | 186.75 | 66.00  | 30.2   | 38.9   | 111.1  | 111.5  | 101.7  | 60.3   | 37.3   | 21.5   | 31.3   | 27.2   | 18.0   |\n",
       "| 251 | 251    | 25.3   | 1.0399 | 72     | 190.75 | 70.50  | 27.0   | 38.9   | 108.3  | 101.3  |  97.8  | 56.0   | 41.6   | 22.7   | 30.5   | 29.4   | 19.8   |\n",
       "| 252 | 252    | 30.7   | 1.0271 | 74     | 207.50 | 70.00  | 29.8   | 40.8   | 112.4  | 108.5  | 107.1  | 59.3   | 42.2   | 24.6   | 33.7   | 30.0   | 20.9   |\n",
       "\n"
      ],
      "text/plain": [
       "    IDNO BODYFAT DENSITY AGE WEIGHT HEIGHT ADIPOSITY NECK CHEST ABDOMEN HIP  \n",
       "247 247  29.1    1.0308  69  215.50 70.50  30.5      40.8 113.7 107.6   110.0\n",
       "248 248  11.5    1.0736  70  134.25 67.00  21.1      34.9  89.2  83.6    88.8\n",
       "249 249  32.3    1.0236  72  201.00 69.75  29.1      40.9 108.5 105.0   104.5\n",
       "250 250  28.3    1.0328  72  186.75 66.00  30.2      38.9 111.1 111.5   101.7\n",
       "251 251  25.3    1.0399  72  190.75 70.50  27.0      38.9 108.3 101.3    97.8\n",
       "252 252  30.7    1.0271  74  207.50 70.00  29.8      40.8 112.4 108.5   107.1\n",
       "    THIGH KNEE ANKLE BICEPS FOREARM WRIST\n",
       "247 63.3  44.0 22.6  37.5   32.6    18.8 \n",
       "248 49.6  34.8 21.5  25.6   25.7    18.5 \n",
       "249 59.6  40.8 23.2  35.2   28.6    20.1 \n",
       "250 60.3  37.3 21.5  31.3   27.2    18.0 \n",
       "251 56.0  41.6 22.7  30.5   29.4    19.8 \n",
       "252 59.3  42.2 24.6  33.7   30.0    20.9 "
      ]
     },
     "metadata": {},
     "output_type": "display_data"
    }
   ],
   "source": [
    "tail(BodyFat)"
   ]
  },
  {
   "cell_type": "code",
   "execution_count": 4,
   "metadata": {},
   "outputs": [
    {
     "data": {
      "text/plain": [
       "      IDNO           BODYFAT         DENSITY           AGE       \n",
       " Min.   :  1.00   Min.   : 0.00   Min.   :0.995   Min.   :22.00  \n",
       " 1st Qu.: 63.75   1st Qu.:12.80   1st Qu.:1.041   1st Qu.:35.75  \n",
       " Median :126.50   Median :19.00   Median :1.055   Median :43.00  \n",
       " Mean   :126.50   Mean   :18.94   Mean   :1.056   Mean   :44.88  \n",
       " 3rd Qu.:189.25   3rd Qu.:24.60   3rd Qu.:1.070   3rd Qu.:54.00  \n",
       " Max.   :252.00   Max.   :45.10   Max.   :1.109   Max.   :81.00  \n",
       "     WEIGHT          HEIGHT        ADIPOSITY          NECK      \n",
       " Min.   :118.5   Min.   :29.50   Min.   :18.10   Min.   :31.10  \n",
       " 1st Qu.:159.0   1st Qu.:68.25   1st Qu.:23.10   1st Qu.:36.40  \n",
       " Median :176.5   Median :70.00   Median :25.05   Median :38.00  \n",
       " Mean   :178.9   Mean   :70.15   Mean   :25.44   Mean   :37.99  \n",
       " 3rd Qu.:197.0   3rd Qu.:72.25   3rd Qu.:27.32   3rd Qu.:39.42  \n",
       " Max.   :363.1   Max.   :77.75   Max.   :48.90   Max.   :51.20  \n",
       "     CHEST           ABDOMEN            HIP            THIGH      \n",
       " Min.   : 79.30   Min.   : 69.40   Min.   : 85.0   Min.   :47.20  \n",
       " 1st Qu.: 94.35   1st Qu.: 84.58   1st Qu.: 95.5   1st Qu.:56.00  \n",
       " Median : 99.65   Median : 90.95   Median : 99.3   Median :59.00  \n",
       " Mean   :100.82   Mean   : 92.56   Mean   : 99.9   Mean   :59.41  \n",
       " 3rd Qu.:105.38   3rd Qu.: 99.33   3rd Qu.:103.5   3rd Qu.:62.35  \n",
       " Max.   :136.20   Max.   :148.10   Max.   :147.7   Max.   :87.30  \n",
       "      KNEE           ANKLE          BICEPS         FOREARM          WRIST      \n",
       " Min.   :33.00   Min.   :19.1   Min.   :24.80   Min.   :21.00   Min.   :15.80  \n",
       " 1st Qu.:36.98   1st Qu.:22.0   1st Qu.:30.20   1st Qu.:27.30   1st Qu.:17.60  \n",
       " Median :38.50   Median :22.8   Median :32.05   Median :28.70   Median :18.30  \n",
       " Mean   :38.59   Mean   :23.1   Mean   :32.27   Mean   :28.66   Mean   :18.23  \n",
       " 3rd Qu.:39.92   3rd Qu.:24.0   3rd Qu.:34.33   3rd Qu.:30.00   3rd Qu.:18.80  \n",
       " Max.   :49.10   Max.   :33.9   Max.   :45.00   Max.   :34.90   Max.   :21.40  "
      ]
     },
     "metadata": {},
     "output_type": "display_data"
    }
   ],
   "source": [
    "attach(BodyFat)\n",
    "summary(BodyFat)"
   ]
  },
  {
   "cell_type": "code",
   "execution_count": 5,
   "metadata": {},
   "outputs": [
    {
     "data": {
      "image/png": "[encoded data removed]",
      "text/plain": [
       "plot without title"
      ]
     },
     "metadata": {},
     "output_type": "display_data"
    }
   ],
   "source": [
    "opar = par(mfrow=c(2,3))\n",
    "boxplot(BODYFAT,xlab = \"bodyfat\")\n",
    "boxplot(WEIGHT, xlab = \"weight\")\n",
    "boxplot(HEIGHT, xlab = \"height\")\n",
    "boxplot(WRIST, xlab = \"wrist\")\n",
    "boxplot(HIP, xlab = \"hip\")\n",
    "boxplot(NECK, xlab = \"neck\")\n",
    "par(opar)"
   ]
  },
  {
   "cell_type": "markdown",
   "metadata": {},
   "source": [
    "What I find:\n",
    "1. body fat percentage of male must be between 5% to 45%. But in the data, min body fat percentage is 0%, and max body fat percentage is 45.10%.\n",
    "2. The body density of people is around 1 gm/cm^3.\n",
    "3. The max weight is 363.1. This data should be double checked with its height.\n",
    "4. The min height is unlikely to exsit.\n",
    "5. Adiposity (BMI) = WEIGHT*0.454/(HEIGHT*0.0254)^2. max ADIPOSITY should be double checked.\n",
    "6. neck can measure the top body percentage.For the normal people it should be < 38cm. However,the max NECK is 51.20 cm.\n",
    "7. max THIGH = 87.30 ?\n",
    "8. max BICEPS should be double checked.\n"
   ]
  },
  {
   "cell_type": "markdown",
   "metadata": {},
   "source": [
    "### Deal with Outliers"
   ]
  },
  {
   "cell_type": "markdown",
   "metadata": {},
   "source": [
    "**Body fat percentage**"
   ]
  },
  {
   "cell_type": "code",
   "execution_count": 6,
   "metadata": {},
   "outputs": [
    {
     "data": {
      "text/html": [
       "<table>\n",
       "<thead><tr><th></th><th scope=col>IDNO</th><th scope=col>BODYFAT</th><th scope=col>DENSITY</th><th scope=col>AGE</th><th scope=col>WEIGHT</th><th scope=col>HEIGHT</th><th scope=col>ADIPOSITY</th><th scope=col>NECK</th><th scope=col>CHEST</th><th scope=col>ABDOMEN</th><th scope=col>HIP</th><th scope=col>THIGH</th><th scope=col>KNEE</th><th scope=col>ANKLE</th><th scope=col>BICEPS</th><th scope=col>FOREARM</th><th scope=col>WRIST</th></tr></thead>\n",
       "<tbody>\n",
       "\t<tr><th scope=row>26</th><td> 26   </td><td>4.6   </td><td>1.0911</td><td>27    </td><td>159.25</td><td>71.50 </td><td>21.9  </td><td>35.7  </td><td>89.6  </td><td>79.7  </td><td>96.5  </td><td>55.0  </td><td>36.7  </td><td>22.5  </td><td>29.9  </td><td>28.2  </td><td>17.7  </td></tr>\n",
       "\t<tr><th scope=row>29</th><td> 29   </td><td>4.7   </td><td>1.0910</td><td>27    </td><td>133.25</td><td>64.75 </td><td>22.4  </td><td>36.4  </td><td>93.5  </td><td>73.9  </td><td>88.5  </td><td>50.1  </td><td>34.5  </td><td>21.3  </td><td>30.5  </td><td>27.9  </td><td>17.2  </td></tr>\n",
       "\t<tr><th scope=row>55</th><td> 55   </td><td>4.9   </td><td>1.0906</td><td>42    </td><td>136.25</td><td>67.50 </td><td>21.1  </td><td>37.8  </td><td>87.6  </td><td>77.6  </td><td>88.6  </td><td>51.9  </td><td>34.9  </td><td>22.5  </td><td>27.7  </td><td>27.5  </td><td>18.5  </td></tr>\n",
       "\t<tr><th scope=row>171</th><td>171   </td><td>4.1   </td><td>1.0926</td><td>35    </td><td>152.25</td><td>67.75 </td><td>23.4  </td><td>37.0  </td><td>92.2  </td><td>81.9  </td><td>92.8  </td><td>54.7  </td><td>36.2  </td><td>22.1  </td><td>30.4  </td><td>27.4  </td><td>17.7  </td></tr>\n",
       "\t<tr><th scope=row>172</th><td>172   </td><td>1.9   </td><td>1.0983</td><td>35    </td><td>125.75</td><td>65.50 </td><td>20.6  </td><td>34.0  </td><td>90.8  </td><td>75.0  </td><td>89.2  </td><td>50.0  </td><td>34.8  </td><td>22.0  </td><td>24.8  </td><td>25.9  </td><td>16.9  </td></tr>\n",
       "\t<tr><th scope=row>182</th><td>182   </td><td>0.0   </td><td>1.1089</td><td>40    </td><td>118.50</td><td>68.00 </td><td>18.1  </td><td>33.8  </td><td>79.3  </td><td>69.4  </td><td>85.0  </td><td>47.2  </td><td>33.5  </td><td>20.2  </td><td>27.7  </td><td>24.6  </td><td>16.5  </td></tr>\n",
       "</tbody>\n",
       "</table>\n"
      ],
      "text/latex": [
       "\\begin{tabular}{r|lllllllllllllllll}\n",
       "  & IDNO & BODYFAT & DENSITY & AGE & WEIGHT & HEIGHT & ADIPOSITY & NECK & CHEST & ABDOMEN & HIP & THIGH & KNEE & ANKLE & BICEPS & FOREARM & WRIST\\\\\n",
       "\\hline\n",
       "\t26 &  26    & 4.6    & 1.0911 & 27     & 159.25 & 71.50  & 21.9   & 35.7   & 89.6   & 79.7   & 96.5   & 55.0   & 36.7   & 22.5   & 29.9   & 28.2   & 17.7  \\\\\n",
       "\t29 &  29    & 4.7    & 1.0910 & 27     & 133.25 & 64.75  & 22.4   & 36.4   & 93.5   & 73.9   & 88.5   & 50.1   & 34.5   & 21.3   & 30.5   & 27.9   & 17.2  \\\\\n",
       "\t55 &  55    & 4.9    & 1.0906 & 42     & 136.25 & 67.50  & 21.1   & 37.8   & 87.6   & 77.6   & 88.6   & 51.9   & 34.9   & 22.5   & 27.7   & 27.5   & 18.5  \\\\\n",
       "\t171 & 171    & 4.1    & 1.0926 & 35     & 152.25 & 67.75  & 23.4   & 37.0   & 92.2   & 81.9   & 92.8   & 54.7   & 36.2   & 22.1   & 30.4   & 27.4   & 17.7  \\\\\n",
       "\t172 & 172    & 1.9    & 1.0983 & 35     & 125.75 & 65.50  & 20.6   & 34.0   & 90.8   & 75.0   & 89.2   & 50.0   & 34.8   & 22.0   & 24.8   & 25.9   & 16.9  \\\\\n",
       "\t182 & 182    & 0.0    & 1.1089 & 40     & 118.50 & 68.00  & 18.1   & 33.8   & 79.3   & 69.4   & 85.0   & 47.2   & 33.5   & 20.2   & 27.7   & 24.6   & 16.5  \\\\\n",
       "\\end{tabular}\n"
      ],
      "text/markdown": [
       "\n",
       "| <!--/--> | IDNO | BODYFAT | DENSITY | AGE | WEIGHT | HEIGHT | ADIPOSITY | NECK | CHEST | ABDOMEN | HIP | THIGH | KNEE | ANKLE | BICEPS | FOREARM | WRIST |\n",
       "|---|---|---|---|---|---|---|---|---|---|---|---|---|---|---|---|---|---|\n",
       "| 26 |  26    | 4.6    | 1.0911 | 27     | 159.25 | 71.50  | 21.9   | 35.7   | 89.6   | 79.7   | 96.5   | 55.0   | 36.7   | 22.5   | 29.9   | 28.2   | 17.7   |\n",
       "| 29 |  29    | 4.7    | 1.0910 | 27     | 133.25 | 64.75  | 22.4   | 36.4   | 93.5   | 73.9   | 88.5   | 50.1   | 34.5   | 21.3   | 30.5   | 27.9   | 17.2   |\n",
       "| 55 |  55    | 4.9    | 1.0906 | 42     | 136.25 | 67.50  | 21.1   | 37.8   | 87.6   | 77.6   | 88.6   | 51.9   | 34.9   | 22.5   | 27.7   | 27.5   | 18.5   |\n",
       "| 171 | 171    | 4.1    | 1.0926 | 35     | 152.25 | 67.75  | 23.4   | 37.0   | 92.2   | 81.9   | 92.8   | 54.7   | 36.2   | 22.1   | 30.4   | 27.4   | 17.7   |\n",
       "| 172 | 172    | 1.9    | 1.0983 | 35     | 125.75 | 65.50  | 20.6   | 34.0   | 90.8   | 75.0   | 89.2   | 50.0   | 34.8   | 22.0   | 24.8   | 25.9   | 16.9   |\n",
       "| 182 | 182    | 0.0    | 1.1089 | 40     | 118.50 | 68.00  | 18.1   | 33.8   | 79.3   | 69.4   | 85.0   | 47.2   | 33.5   | 20.2   | 27.7   | 24.6   | 16.5   |\n",
       "\n"
      ],
      "text/plain": [
       "    IDNO BODYFAT DENSITY AGE WEIGHT HEIGHT ADIPOSITY NECK CHEST ABDOMEN HIP \n",
       "26   26  4.6     1.0911  27  159.25 71.50  21.9      35.7 89.6  79.7    96.5\n",
       "29   29  4.7     1.0910  27  133.25 64.75  22.4      36.4 93.5  73.9    88.5\n",
       "55   55  4.9     1.0906  42  136.25 67.50  21.1      37.8 87.6  77.6    88.6\n",
       "171 171  4.1     1.0926  35  152.25 67.75  23.4      37.0 92.2  81.9    92.8\n",
       "172 172  1.9     1.0983  35  125.75 65.50  20.6      34.0 90.8  75.0    89.2\n",
       "182 182  0.0     1.1089  40  118.50 68.00  18.1      33.8 79.3  69.4    85.0\n",
       "    THIGH KNEE ANKLE BICEPS FOREARM WRIST\n",
       "26  55.0  36.7 22.5  29.9   28.2    17.7 \n",
       "29  50.1  34.5 21.3  30.5   27.9    17.2 \n",
       "55  51.9  34.9 22.5  27.7   27.5    18.5 \n",
       "171 54.7  36.2 22.1  30.4   27.4    17.7 \n",
       "172 50.0  34.8 22.0  24.8   25.9    16.9 \n",
       "182 47.2  33.5 20.2  27.7   24.6    16.5 "
      ]
     },
     "metadata": {},
     "output_type": "display_data"
    }
   ],
   "source": [
    "BodyFat[BODYFAT<5,]"
   ]
  },
  {
   "cell_type": "code",
   "execution_count": 7,
   "metadata": {},
   "outputs": [
    {
     "data": {
      "text/html": [
       "<table>\n",
       "<thead><tr><th></th><th scope=col>IDNO</th><th scope=col>BODYFAT</th><th scope=col>DENSITY</th><th scope=col>AGE</th><th scope=col>WEIGHT</th><th scope=col>HEIGHT</th><th scope=col>ADIPOSITY</th><th scope=col>NECK</th><th scope=col>CHEST</th><th scope=col>ABDOMEN</th><th scope=col>HIP</th><th scope=col>THIGH</th><th scope=col>KNEE</th><th scope=col>ANKLE</th><th scope=col>BICEPS</th><th scope=col>FOREARM</th><th scope=col>WRIST</th></tr></thead>\n",
       "<tbody>\n",
       "\t<tr><th scope=row>216</th><td>216  </td><td>45.1 </td><td>0.995</td><td>51   </td><td>219  </td><td>64   </td><td>37.6 </td><td>41.2 </td><td>119.8</td><td>122.1</td><td>112.8</td><td>62.5 </td><td>36.9 </td><td>23.6 </td><td>34.7 </td><td>29.1 </td><td>18.4 </td></tr>\n",
       "</tbody>\n",
       "</table>\n"
      ],
      "text/latex": [
       "\\begin{tabular}{r|lllllllllllllllll}\n",
       "  & IDNO & BODYFAT & DENSITY & AGE & WEIGHT & HEIGHT & ADIPOSITY & NECK & CHEST & ABDOMEN & HIP & THIGH & KNEE & ANKLE & BICEPS & FOREARM & WRIST\\\\\n",
       "\\hline\n",
       "\t216 & 216   & 45.1  & 0.995 & 51    & 219   & 64    & 37.6  & 41.2  & 119.8 & 122.1 & 112.8 & 62.5  & 36.9  & 23.6  & 34.7  & 29.1  & 18.4 \\\\\n",
       "\\end{tabular}\n"
      ],
      "text/markdown": [
       "\n",
       "| <!--/--> | IDNO | BODYFAT | DENSITY | AGE | WEIGHT | HEIGHT | ADIPOSITY | NECK | CHEST | ABDOMEN | HIP | THIGH | KNEE | ANKLE | BICEPS | FOREARM | WRIST |\n",
       "|---|---|---|---|---|---|---|---|---|---|---|---|---|---|---|---|---|---|\n",
       "| 216 | 216   | 45.1  | 0.995 | 51    | 219   | 64    | 37.6  | 41.2  | 119.8 | 122.1 | 112.8 | 62.5  | 36.9  | 23.6  | 34.7  | 29.1  | 18.4  |\n",
       "\n"
      ],
      "text/plain": [
       "    IDNO BODYFAT DENSITY AGE WEIGHT HEIGHT ADIPOSITY NECK CHEST ABDOMEN HIP  \n",
       "216 216  45.1    0.995   51  219    64     37.6      41.2 119.8 122.1   112.8\n",
       "    THIGH KNEE ANKLE BICEPS FOREARM WRIST\n",
       "216 62.5  36.9 23.6  34.7   29.1    18.4 "
      ]
     },
     "metadata": {},
     "output_type": "display_data"
    }
   ],
   "source": [
    "BodyFat[BODYFAT>45,]"
   ]
  },
  {
   "cell_type": "code",
   "execution_count": 8,
   "metadata": {},
   "outputs": [
    {
     "data": {
      "image/png": "[encoded data removed]",
      "text/plain": [
       "plot without title"
      ]
     },
     "metadata": {},
     "output_type": "display_data"
    }
   ],
   "source": [
    "plot(DENSITY,BODYFAT,pch = 20)\n",
    "text(DENSITY,BODYFAT+1,labels = c(1:dim(BodyFat)[1]),cex = 0.5)"
   ]
  },
  {
   "cell_type": "code",
   "execution_count": 9,
   "metadata": {},
   "outputs": [
    {
     "data": {
      "text/html": [
       "<table>\n",
       "<thead><tr><th></th><th scope=col>IDNO</th><th scope=col>BODYFAT</th><th scope=col>DENSITY</th><th scope=col>AGE</th><th scope=col>WEIGHT</th><th scope=col>HEIGHT</th><th scope=col>ADIPOSITY</th><th scope=col>NECK</th><th scope=col>CHEST</th><th scope=col>ABDOMEN</th><th scope=col>HIP</th><th scope=col>THIGH</th><th scope=col>KNEE</th><th scope=col>ANKLE</th><th scope=col>BICEPS</th><th scope=col>FOREARM</th><th scope=col>WRIST</th></tr></thead>\n",
       "<tbody>\n",
       "\t<tr><th scope=row>48</th><td>48    </td><td> 6.4  </td><td>1.0665</td><td>39    </td><td>148.50</td><td>71.25 </td><td>20.6  </td><td>34.6  </td><td> 89.8 </td><td>79.5  </td><td> 92.7 </td><td>52.7  </td><td>37.5  </td><td>21.9  </td><td>28.8  </td><td>26.8  </td><td>17.9  </td></tr>\n",
       "\t<tr><th scope=row>76</th><td>76    </td><td>18.3  </td><td>1.0666</td><td>61    </td><td>148.25</td><td>67.50 </td><td>22.9  </td><td>36.0  </td><td> 91.6 </td><td>81.8  </td><td> 94.8 </td><td>54.5  </td><td>37.0  </td><td>21.4  </td><td>29.3  </td><td>27.0  </td><td>18.3  </td></tr>\n",
       "\t<tr><th scope=row>96</th><td>96    </td><td>17.3  </td><td>1.0991</td><td>53    </td><td>224.50</td><td>77.75 </td><td>26.1  </td><td>41.1  </td><td>113.2 </td><td>99.2  </td><td>107.5 </td><td>61.7  </td><td>42.3  </td><td>23.2  </td><td>32.9  </td><td>30.8  </td><td>20.4  </td></tr>\n",
       "</tbody>\n",
       "</table>\n"
      ],
      "text/latex": [
       "\\begin{tabular}{r|lllllllllllllllll}\n",
       "  & IDNO & BODYFAT & DENSITY & AGE & WEIGHT & HEIGHT & ADIPOSITY & NECK & CHEST & ABDOMEN & HIP & THIGH & KNEE & ANKLE & BICEPS & FOREARM & WRIST\\\\\n",
       "\\hline\n",
       "\t48 & 48     &  6.4   & 1.0665 & 39     & 148.50 & 71.25  & 20.6   & 34.6   &  89.8  & 79.5   &  92.7  & 52.7   & 37.5   & 21.9   & 28.8   & 26.8   & 17.9  \\\\\n",
       "\t76 & 76     & 18.3   & 1.0666 & 61     & 148.25 & 67.50  & 22.9   & 36.0   &  91.6  & 81.8   &  94.8  & 54.5   & 37.0   & 21.4   & 29.3   & 27.0   & 18.3  \\\\\n",
       "\t96 & 96     & 17.3   & 1.0991 & 53     & 224.50 & 77.75  & 26.1   & 41.1   & 113.2  & 99.2   & 107.5  & 61.7   & 42.3   & 23.2   & 32.9   & 30.8   & 20.4  \\\\\n",
       "\\end{tabular}\n"
      ],
      "text/markdown": [
       "\n",
       "| <!--/--> | IDNO | BODYFAT | DENSITY | AGE | WEIGHT | HEIGHT | ADIPOSITY | NECK | CHEST | ABDOMEN | HIP | THIGH | KNEE | ANKLE | BICEPS | FOREARM | WRIST |\n",
       "|---|---|---|---|---|---|---|---|---|---|---|---|---|---|---|---|---|---|\n",
       "| 48 | 48     |  6.4   | 1.0665 | 39     | 148.50 | 71.25  | 20.6   | 34.6   |  89.8  | 79.5   |  92.7  | 52.7   | 37.5   | 21.9   | 28.8   | 26.8   | 17.9   |\n",
       "| 76 | 76     | 18.3   | 1.0666 | 61     | 148.25 | 67.50  | 22.9   | 36.0   |  91.6  | 81.8   |  94.8  | 54.5   | 37.0   | 21.4   | 29.3   | 27.0   | 18.3   |\n",
       "| 96 | 96     | 17.3   | 1.0991 | 53     | 224.50 | 77.75  | 26.1   | 41.1   | 113.2  | 99.2   | 107.5  | 61.7   | 42.3   | 23.2   | 32.9   | 30.8   | 20.4   |\n",
       "\n"
      ],
      "text/plain": [
       "   IDNO BODYFAT DENSITY AGE WEIGHT HEIGHT ADIPOSITY NECK CHEST ABDOMEN HIP  \n",
       "48 48    6.4    1.0665  39  148.50 71.25  20.6      34.6  89.8 79.5     92.7\n",
       "76 76   18.3    1.0666  61  148.25 67.50  22.9      36.0  91.6 81.8     94.8\n",
       "96 96   17.3    1.0991  53  224.50 77.75  26.1      41.1 113.2 99.2    107.5\n",
       "   THIGH KNEE ANKLE BICEPS FOREARM WRIST\n",
       "48 52.7  37.5 21.9  28.8   26.8    17.9 \n",
       "76 54.5  37.0 21.4  29.3   27.0    18.3 \n",
       "96 61.7  42.3 23.2  32.9   30.8    20.4 "
      ]
     },
     "metadata": {},
     "output_type": "display_data"
    }
   ],
   "source": [
    "BodyFat[c(48,76,96),]"
   ]
  },
  {
   "cell_type": "markdown",
   "metadata": {},
   "source": [
    "My thought:\n",
    "1. delete point 216.\n",
    "2. use density to fix bodyfat of point 182 and 172.\n",
    "3. Delete point 48, 76, 96."
   ]
  },
  {
   "cell_type": "code",
   "execution_count": 10,
   "metadata": {},
   "outputs": [
    {
     "data": {
      "text/plain": [
       "\n",
       "Call:\n",
       "lm(formula = BODYFAT ~ DENSITY, data = BodyFat[-182, ])\n",
       "\n",
       "Residuals:\n",
       "    Min      1Q  Median      3Q     Max \n",
       "-8.1145 -0.1816 -0.1260  0.0326 15.9541 \n",
       "\n",
       "Coefficients:\n",
       "            Estimate Std. Error t value Pr(>|t|)    \n",
       "(Intercept)  445.324      4.221   105.5   <2e-16 ***\n",
       "DENSITY     -403.947      3.999  -101.0   <2e-16 ***\n",
       "---\n",
       "Signif. codes:  0 '***' 0.001 '**' 0.01 '*' 0.05 '.' 0.1 ' ' 1\n",
       "\n",
       "Residual standard error: 1.187 on 249 degrees of freedom\n",
       "Multiple R-squared:  0.9762,\tAdjusted R-squared:  0.9761 \n",
       "F-statistic: 1.021e+04 on 1 and 249 DF,  p-value: < 2.2e-16\n"
      ]
     },
     "metadata": {},
     "output_type": "display_data"
    }
   ],
   "source": [
    "fit1 = lm(BODYFAT~DENSITY,data = BodyFat[-182,])\n",
    "summary(fit1)"
   ]
  },
  {
   "cell_type": "code",
   "execution_count": 11,
   "metadata": {},
   "outputs": [
    {
     "name": "stdout",
     "output_type": "stream",
     "text": [
      "        1 \n",
      "-2.612816 \n"
     ]
    }
   ],
   "source": [
    "Bodyfat_182 = predict(fit1, newdata = data.frame(DENSITY = 1.1089))\n",
    "print(Bodyfat_182)"
   ]
  },
  {
   "cell_type": "markdown",
   "metadata": {},
   "source": [
    "The body fat percentage cannot be negative, so we also delete point 182."
   ]
  },
  {
   "cell_type": "code",
   "execution_count": 12,
   "metadata": {},
   "outputs": [
    {
     "name": "stdout",
     "output_type": "stream",
     "text": [
      "       1 \n",
      "1.669019 \n"
     ]
    }
   ],
   "source": [
    "Bodyfat_172 = predict(fit1, newdata = data.frame(DENSITY = 1.0983))\n",
    "print(Bodyfat_172)"
   ]
  },
  {
   "cell_type": "markdown",
   "metadata": {},
   "source": [
    "The body fat percentage cannot be such small, so we also delete point 172."
   ]
  },
  {
   "cell_type": "markdown",
   "metadata": {},
   "source": [
    "**Weight and hight**"
   ]
  },
  {
   "cell_type": "code",
   "execution_count": 13,
   "metadata": {},
   "outputs": [
    {
     "data": {
      "text/html": [
       "<table>\n",
       "<thead><tr><th></th><th scope=col>IDNO</th><th scope=col>BODYFAT</th><th scope=col>DENSITY</th><th scope=col>AGE</th><th scope=col>WEIGHT</th><th scope=col>HEIGHT</th><th scope=col>ADIPOSITY</th><th scope=col>NECK</th><th scope=col>CHEST</th><th scope=col>ABDOMEN</th><th scope=col>HIP</th><th scope=col>THIGH</th><th scope=col>KNEE</th><th scope=col>ANKLE</th><th scope=col>BICEPS</th><th scope=col>FOREARM</th><th scope=col>WRIST</th></tr></thead>\n",
       "<tbody>\n",
       "\t<tr><th scope=row>42</th><td>42   </td><td>31.7 </td><td>1.025</td><td>44   </td><td>205  </td><td>29.5 </td><td>29.9 </td><td>36.6 </td><td>106  </td><td>104.3</td><td>115.5</td><td>70.6 </td><td>42.5 </td><td>23.7 </td><td>33.6 </td><td>28.7 </td><td>17.4 </td></tr>\n",
       "</tbody>\n",
       "</table>\n"
      ],
      "text/latex": [
       "\\begin{tabular}{r|lllllllllllllllll}\n",
       "  & IDNO & BODYFAT & DENSITY & AGE & WEIGHT & HEIGHT & ADIPOSITY & NECK & CHEST & ABDOMEN & HIP & THIGH & KNEE & ANKLE & BICEPS & FOREARM & WRIST\\\\\n",
       "\\hline\n",
       "\t42 & 42    & 31.7  & 1.025 & 44    & 205   & 29.5  & 29.9  & 36.6  & 106   & 104.3 & 115.5 & 70.6  & 42.5  & 23.7  & 33.6  & 28.7  & 17.4 \\\\\n",
       "\\end{tabular}\n"
      ],
      "text/markdown": [
       "\n",
       "| <!--/--> | IDNO | BODYFAT | DENSITY | AGE | WEIGHT | HEIGHT | ADIPOSITY | NECK | CHEST | ABDOMEN | HIP | THIGH | KNEE | ANKLE | BICEPS | FOREARM | WRIST |\n",
       "|---|---|---|---|---|---|---|---|---|---|---|---|---|---|---|---|---|---|\n",
       "| 42 | 42    | 31.7  | 1.025 | 44    | 205   | 29.5  | 29.9  | 36.6  | 106   | 104.3 | 115.5 | 70.6  | 42.5  | 23.7  | 33.6  | 28.7  | 17.4  |\n",
       "\n"
      ],
      "text/plain": [
       "   IDNO BODYFAT DENSITY AGE WEIGHT HEIGHT ADIPOSITY NECK CHEST ABDOMEN HIP  \n",
       "42 42   31.7    1.025   44  205    29.5   29.9      36.6 106   104.3   115.5\n",
       "   THIGH KNEE ANKLE BICEPS FOREARM WRIST\n",
       "42 70.6  42.5 23.7  33.6   28.7    17.4 "
      ]
     },
     "metadata": {},
     "output_type": "display_data"
    }
   ],
   "source": [
    "BodyFat[HEIGHT==29.50,]"
   ]
  },
  {
   "cell_type": "markdown",
   "metadata": {},
   "source": [
    "Point 42: The height and weight seem not be coincident."
   ]
  },
  {
   "cell_type": "code",
   "execution_count": 14,
   "metadata": {},
   "outputs": [
    {
     "name": "stdout",
     "output_type": "stream",
     "text": [
      "[1] 69.5\n"
     ]
    }
   ],
   "source": [
    "height_42 = round(sqrt(205*0.454/29.9)/0.0254,1)\n",
    "print(height_42)"
   ]
  },
  {
   "cell_type": "markdown",
   "metadata": {},
   "source": [
    "**Point 42: change HEIGHT to 69.5.**"
   ]
  },
  {
   "cell_type": "code",
   "execution_count": 15,
   "metadata": {},
   "outputs": [
    {
     "data": {
      "text/html": [
       "<table>\n",
       "<thead><tr><th></th><th scope=col>IDNO</th><th scope=col>BODYFAT</th><th scope=col>DENSITY</th><th scope=col>AGE</th><th scope=col>WEIGHT</th><th scope=col>HEIGHT</th><th scope=col>ADIPOSITY</th><th scope=col>NECK</th><th scope=col>CHEST</th><th scope=col>ABDOMEN</th><th scope=col>HIP</th><th scope=col>THIGH</th><th scope=col>KNEE</th><th scope=col>ANKLE</th><th scope=col>BICEPS</th><th scope=col>FOREARM</th><th scope=col>WRIST</th></tr></thead>\n",
       "<tbody>\n",
       "\t<tr><th scope=row>39</th><td>39    </td><td>33.8  </td><td>1.0202</td><td>46    </td><td>363.15</td><td>72.25 </td><td>48.9  </td><td>51.2  </td><td>136.2 </td><td>148.1 </td><td>147.7 </td><td>87.3  </td><td>49.1  </td><td>29.6  </td><td>45.0  </td><td>29.0  </td><td>21.4  </td></tr>\n",
       "\t<tr><th scope=row>41</th><td>41    </td><td>33.1  </td><td>1.0217</td><td>45    </td><td>262.75</td><td>68.75 </td><td>39.1  </td><td>43.2  </td><td>128.3 </td><td>126.2 </td><td>125.6 </td><td>72.5  </td><td>39.6  </td><td>26.6  </td><td>36.4  </td><td>32.7  </td><td>21.4  </td></tr>\n",
       "</tbody>\n",
       "</table>\n"
      ],
      "text/latex": [
       "\\begin{tabular}{r|lllllllllllllllll}\n",
       "  & IDNO & BODYFAT & DENSITY & AGE & WEIGHT & HEIGHT & ADIPOSITY & NECK & CHEST & ABDOMEN & HIP & THIGH & KNEE & ANKLE & BICEPS & FOREARM & WRIST\\\\\n",
       "\\hline\n",
       "\t39 & 39     & 33.8   & 1.0202 & 46     & 363.15 & 72.25  & 48.9   & 51.2   & 136.2  & 148.1  & 147.7  & 87.3   & 49.1   & 29.6   & 45.0   & 29.0   & 21.4  \\\\\n",
       "\t41 & 41     & 33.1   & 1.0217 & 45     & 262.75 & 68.75  & 39.1   & 43.2   & 128.3  & 126.2  & 125.6  & 72.5   & 39.6   & 26.6   & 36.4   & 32.7   & 21.4  \\\\\n",
       "\\end{tabular}\n"
      ],
      "text/markdown": [
       "\n",
       "| <!--/--> | IDNO | BODYFAT | DENSITY | AGE | WEIGHT | HEIGHT | ADIPOSITY | NECK | CHEST | ABDOMEN | HIP | THIGH | KNEE | ANKLE | BICEPS | FOREARM | WRIST |\n",
       "|---|---|---|---|---|---|---|---|---|---|---|---|---|---|---|---|---|---|\n",
       "| 39 | 39     | 33.8   | 1.0202 | 46     | 363.15 | 72.25  | 48.9   | 51.2   | 136.2  | 148.1  | 147.7  | 87.3   | 49.1   | 29.6   | 45.0   | 29.0   | 21.4   |\n",
       "| 41 | 41     | 33.1   | 1.0217 | 45     | 262.75 | 68.75  | 39.1   | 43.2   | 128.3  | 126.2  | 125.6  | 72.5   | 39.6   | 26.6   | 36.4   | 32.7   | 21.4   |\n",
       "\n"
      ],
      "text/plain": [
       "   IDNO BODYFAT DENSITY AGE WEIGHT HEIGHT ADIPOSITY NECK CHEST ABDOMEN HIP  \n",
       "39 39   33.8    1.0202  46  363.15 72.25  48.9      51.2 136.2 148.1   147.7\n",
       "41 41   33.1    1.0217  45  262.75 68.75  39.1      43.2 128.3 126.2   125.6\n",
       "   THIGH KNEE ANKLE BICEPS FOREARM WRIST\n",
       "39 87.3  49.1 29.6  45.0   29.0    21.4 \n",
       "41 72.5  39.6 26.6  36.4   32.7    21.4 "
      ]
     },
     "metadata": {},
     "output_type": "display_data"
    }
   ],
   "source": [
    "BodyFat[sort(WEIGHT, decreasing = T, index.return = T)$ix[1:2],]"
   ]
  },
  {
   "cell_type": "markdown",
   "metadata": {},
   "source": [
    "Point 39: max WEIGHT, max NECK, max ADIPOSITY, max CHEST, ...,max HIP, max THIGH,...; This point should be reserved."
   ]
  },
  {
   "cell_type": "markdown",
   "metadata": {},
   "source": [
    "**Neck**"
   ]
  },
  {
   "cell_type": "code",
   "execution_count": 16,
   "metadata": {},
   "outputs": [
    {
     "data": {
      "text/html": [
       "<table>\n",
       "<thead><tr><th></th><th scope=col>IDNO</th><th scope=col>BODYFAT</th><th scope=col>DENSITY</th><th scope=col>AGE</th><th scope=col>WEIGHT</th><th scope=col>HEIGHT</th><th scope=col>ADIPOSITY</th><th scope=col>NECK</th><th scope=col>CHEST</th><th scope=col>ABDOMEN</th><th scope=col>HIP</th><th scope=col>THIGH</th><th scope=col>KNEE</th><th scope=col>ANKLE</th><th scope=col>BICEPS</th><th scope=col>FOREARM</th><th scope=col>WRIST</th></tr></thead>\n",
       "<tbody>\n",
       "\t<tr><th scope=row>45</th><td> 45   </td><td> 8.4  </td><td>1.0814</td><td>39    </td><td>125.25</td><td>68.0  </td><td>19.1  </td><td>31.5  </td><td>85.1  </td><td>76.0  </td><td>88.2  </td><td>50.0  </td><td>34.7  </td><td>21.0  </td><td>26.1  </td><td>23.1  </td><td>16.1  </td></tr>\n",
       "\t<tr><th scope=row>106</th><td>106   </td><td>17.8  </td><td>1.0578</td><td>43    </td><td>165.50</td><td>68.5  </td><td>24.8  </td><td>31.1  </td><td>93.1  </td><td>87.3  </td><td>96.6  </td><td>54.7  </td><td>39.0  </td><td>24.8  </td><td>31.0  </td><td>29.4  </td><td>18.8  </td></tr>\n",
       "</tbody>\n",
       "</table>\n"
      ],
      "text/latex": [
       "\\begin{tabular}{r|lllllllllllllllll}\n",
       "  & IDNO & BODYFAT & DENSITY & AGE & WEIGHT & HEIGHT & ADIPOSITY & NECK & CHEST & ABDOMEN & HIP & THIGH & KNEE & ANKLE & BICEPS & FOREARM & WRIST\\\\\n",
       "\\hline\n",
       "\t45 &  45    &  8.4   & 1.0814 & 39     & 125.25 & 68.0   & 19.1   & 31.5   & 85.1   & 76.0   & 88.2   & 50.0   & 34.7   & 21.0   & 26.1   & 23.1   & 16.1  \\\\\n",
       "\t106 & 106    & 17.8   & 1.0578 & 43     & 165.50 & 68.5   & 24.8   & 31.1   & 93.1   & 87.3   & 96.6   & 54.7   & 39.0   & 24.8   & 31.0   & 29.4   & 18.8  \\\\\n",
       "\\end{tabular}\n"
      ],
      "text/markdown": [
       "\n",
       "| <!--/--> | IDNO | BODYFAT | DENSITY | AGE | WEIGHT | HEIGHT | ADIPOSITY | NECK | CHEST | ABDOMEN | HIP | THIGH | KNEE | ANKLE | BICEPS | FOREARM | WRIST |\n",
       "|---|---|---|---|---|---|---|---|---|---|---|---|---|---|---|---|---|---|\n",
       "| 45 |  45    |  8.4   | 1.0814 | 39     | 125.25 | 68.0   | 19.1   | 31.5   | 85.1   | 76.0   | 88.2   | 50.0   | 34.7   | 21.0   | 26.1   | 23.1   | 16.1   |\n",
       "| 106 | 106    | 17.8   | 1.0578 | 43     | 165.50 | 68.5   | 24.8   | 31.1   | 93.1   | 87.3   | 96.6   | 54.7   | 39.0   | 24.8   | 31.0   | 29.4   | 18.8   |\n",
       "\n"
      ],
      "text/plain": [
       "    IDNO BODYFAT DENSITY AGE WEIGHT HEIGHT ADIPOSITY NECK CHEST ABDOMEN HIP \n",
       "45   45   8.4    1.0814  39  125.25 68.0   19.1      31.5 85.1  76.0    88.2\n",
       "106 106  17.8    1.0578  43  165.50 68.5   24.8      31.1 93.1  87.3    96.6\n",
       "    THIGH KNEE ANKLE BICEPS FOREARM WRIST\n",
       "45  50.0  34.7 21.0  26.1   23.1    16.1 \n",
       "106 54.7  39.0 24.8  31.0   29.4    18.8 "
      ]
     },
     "metadata": {},
     "output_type": "display_data"
    }
   ],
   "source": [
    "BodyFat[NECK<32,]"
   ]
  },
  {
   "cell_type": "markdown",
   "metadata": {},
   "source": [
    "These two points seems to be reasonable."
   ]
  },
  {
   "cell_type": "markdown",
   "metadata": {},
   "source": [
    "**This Part Summary**\n",
    "\n",
    "**1. Delete point 216, 182, 172.**\n",
    "\n",
    "**2. The HEIGHT of point 42 should be changed to 69.5.**\n",
    "\n",
    "**3. The point 39 is a extreme case.**\n",
    "\n",
    "**4. We also should delete point 48, 76, 96.**"
   ]
  },
  {
   "cell_type": "code",
   "execution_count": 17,
   "metadata": {},
   "outputs": [
    {
     "data": {
      "text/html": [
       "<ol class=list-inline>\n",
       "\t<li>246</li>\n",
       "\t<li>17</li>\n",
       "</ol>\n"
      ],
      "text/latex": [
       "\\begin{enumerate*}\n",
       "\\item 246\n",
       "\\item 17\n",
       "\\end{enumerate*}\n"
      ],
      "text/markdown": [
       "1. 246\n",
       "2. 17\n",
       "\n",
       "\n"
      ],
      "text/plain": [
       "[1] 246  17"
      ]
     },
     "metadata": {},
     "output_type": "display_data"
    }
   ],
   "source": [
    "## we use following data to do statisticial analysis\n",
    "data = BodyFat[-c(216,182,172,48,76,96),]\n",
    "data[IDNO==42,6] = 69.5\n",
    "dim(data)"
   ]
  },
  {
   "cell_type": "markdown",
   "metadata": {},
   "source": [
    "## Step 2: Visualizing Data"
   ]
  },
  {
   "cell_type": "code",
   "execution_count": 18,
   "metadata": {},
   "outputs": [
    {
     "data": {
      "image/png": "[encoded data removed]",
      "text/plain": [
       "Plot with title \"Histogram of Height\""
      ]
     },
     "metadata": {},
     "output_type": "display_data"
    }
   ],
   "source": [
    "opar = par(mfrow=c(2,2))\n",
    "hist(data$BODYFAT,breaks = 20, xlab = \"Body Fat Percentage\", xlim = c(4,40), main = \"Histogram of Body Fat Percentage\")\n",
    "hist(data$AGE,breaks = 20, xlab = \"age\", main = \"Hisrogram of Age\")\n",
    "hist(data$WEIGHT, breaks = 20, xlab = \"weight\", main = \"Histogram of Weight\")\n",
    "hist(data$HEIGHT, breaks =20, xlab =\"Height\", main = \"Histogram of Height\")\n",
    "par(opar)"
   ]
  },
  {
   "cell_type": "markdown",
   "metadata": {},
   "source": [
    "## Step 3: Statistical Modeling and Anlysis"
   ]
  },
  {
   "cell_type": "code",
   "execution_count": 19,
   "metadata": {},
   "outputs": [
    {
     "data": {
      "text/html": [
       "<table>\n",
       "<thead><tr><th scope=col>BODYFAT</th><th scope=col>AGE</th><th scope=col>WEIGHT</th><th scope=col>HEIGHT</th><th scope=col>ADIPOSITY</th><th scope=col>NECK</th><th scope=col>CHEST</th><th scope=col>ABDOMEN</th><th scope=col>HIP</th><th scope=col>THIGH</th><th scope=col>KNEE</th><th scope=col>ANKLE</th><th scope=col>BICEPS</th><th scope=col>FOREARM</th><th scope=col>WRIST</th></tr></thead>\n",
       "<tbody>\n",
       "\t<tr><td>12.6  </td><td>23    </td><td>154.25</td><td>67.75 </td><td>23.7  </td><td>36.2  </td><td> 93.1 </td><td> 85.2 </td><td> 94.5 </td><td>59.0  </td><td>37.3  </td><td>21.9  </td><td>32.0  </td><td>27.4  </td><td>17.1  </td></tr>\n",
       "\t<tr><td> 6.9  </td><td>22    </td><td>173.25</td><td>72.25 </td><td>23.4  </td><td>38.5  </td><td> 93.6 </td><td> 83.0 </td><td> 98.7 </td><td>58.7  </td><td>37.3  </td><td>23.4  </td><td>30.5  </td><td>28.9  </td><td>18.2  </td></tr>\n",
       "\t<tr><td>24.6  </td><td>22    </td><td>154.00</td><td>66.25 </td><td>24.7  </td><td>34.0  </td><td> 95.8 </td><td> 87.9 </td><td> 99.2 </td><td>59.6  </td><td>38.9  </td><td>24.0  </td><td>28.8  </td><td>25.2  </td><td>16.6  </td></tr>\n",
       "\t<tr><td>10.9  </td><td>26    </td><td>184.75</td><td>72.25 </td><td>24.9  </td><td>37.4  </td><td>101.8 </td><td> 86.4 </td><td>101.2 </td><td>60.1  </td><td>37.3  </td><td>22.8  </td><td>32.4  </td><td>29.4  </td><td>18.2  </td></tr>\n",
       "\t<tr><td>27.8  </td><td>24    </td><td>184.25</td><td>71.25 </td><td>25.6  </td><td>34.4  </td><td> 97.3 </td><td>100.0 </td><td>101.9 </td><td>63.2  </td><td>42.2  </td><td>24.0  </td><td>32.2  </td><td>27.7  </td><td>17.7  </td></tr>\n",
       "\t<tr><td>20.6  </td><td>24    </td><td>210.25</td><td>74.75 </td><td>26.5  </td><td>39.0  </td><td>104.5 </td><td> 94.4 </td><td>107.8 </td><td>66.0  </td><td>42.0  </td><td>25.6  </td><td>35.7  </td><td>30.6  </td><td>18.8  </td></tr>\n",
       "</tbody>\n",
       "</table>\n"
      ],
      "text/latex": [
       "\\begin{tabular}{r|lllllllllllllll}\n",
       " BODYFAT & AGE & WEIGHT & HEIGHT & ADIPOSITY & NECK & CHEST & ABDOMEN & HIP & THIGH & KNEE & ANKLE & BICEPS & FOREARM & WRIST\\\\\n",
       "\\hline\n",
       "\t 12.6   & 23     & 154.25 & 67.75  & 23.7   & 36.2   &  93.1  &  85.2  &  94.5  & 59.0   & 37.3   & 21.9   & 32.0   & 27.4   & 17.1  \\\\\n",
       "\t  6.9   & 22     & 173.25 & 72.25  & 23.4   & 38.5   &  93.6  &  83.0  &  98.7  & 58.7   & 37.3   & 23.4   & 30.5   & 28.9   & 18.2  \\\\\n",
       "\t 24.6   & 22     & 154.00 & 66.25  & 24.7   & 34.0   &  95.8  &  87.9  &  99.2  & 59.6   & 38.9   & 24.0   & 28.8   & 25.2   & 16.6  \\\\\n",
       "\t 10.9   & 26     & 184.75 & 72.25  & 24.9   & 37.4   & 101.8  &  86.4  & 101.2  & 60.1   & 37.3   & 22.8   & 32.4   & 29.4   & 18.2  \\\\\n",
       "\t 27.8   & 24     & 184.25 & 71.25  & 25.6   & 34.4   &  97.3  & 100.0  & 101.9  & 63.2   & 42.2   & 24.0   & 32.2   & 27.7   & 17.7  \\\\\n",
       "\t 20.6   & 24     & 210.25 & 74.75  & 26.5   & 39.0   & 104.5  &  94.4  & 107.8  & 66.0   & 42.0   & 25.6   & 35.7   & 30.6   & 18.8  \\\\\n",
       "\\end{tabular}\n"
      ],
      "text/markdown": [
       "\n",
       "| BODYFAT | AGE | WEIGHT | HEIGHT | ADIPOSITY | NECK | CHEST | ABDOMEN | HIP | THIGH | KNEE | ANKLE | BICEPS | FOREARM | WRIST |\n",
       "|---|---|---|---|---|---|---|---|---|---|---|---|---|---|---|\n",
       "| 12.6   | 23     | 154.25 | 67.75  | 23.7   | 36.2   |  93.1  |  85.2  |  94.5  | 59.0   | 37.3   | 21.9   | 32.0   | 27.4   | 17.1   |\n",
       "|  6.9   | 22     | 173.25 | 72.25  | 23.4   | 38.5   |  93.6  |  83.0  |  98.7  | 58.7   | 37.3   | 23.4   | 30.5   | 28.9   | 18.2   |\n",
       "| 24.6   | 22     | 154.00 | 66.25  | 24.7   | 34.0   |  95.8  |  87.9  |  99.2  | 59.6   | 38.9   | 24.0   | 28.8   | 25.2   | 16.6   |\n",
       "| 10.9   | 26     | 184.75 | 72.25  | 24.9   | 37.4   | 101.8  |  86.4  | 101.2  | 60.1   | 37.3   | 22.8   | 32.4   | 29.4   | 18.2   |\n",
       "| 27.8   | 24     | 184.25 | 71.25  | 25.6   | 34.4   |  97.3  | 100.0  | 101.9  | 63.2   | 42.2   | 24.0   | 32.2   | 27.7   | 17.7   |\n",
       "| 20.6   | 24     | 210.25 | 74.75  | 26.5   | 39.0   | 104.5  |  94.4  | 107.8  | 66.0   | 42.0   | 25.6   | 35.7   | 30.6   | 18.8   |\n",
       "\n"
      ],
      "text/plain": [
       "  BODYFAT AGE WEIGHT HEIGHT ADIPOSITY NECK CHEST ABDOMEN HIP   THIGH KNEE ANKLE\n",
       "1 12.6    23  154.25 67.75  23.7      36.2  93.1  85.2    94.5 59.0  37.3 21.9 \n",
       "2  6.9    22  173.25 72.25  23.4      38.5  93.6  83.0    98.7 58.7  37.3 23.4 \n",
       "3 24.6    22  154.00 66.25  24.7      34.0  95.8  87.9    99.2 59.6  38.9 24.0 \n",
       "4 10.9    26  184.75 72.25  24.9      37.4 101.8  86.4   101.2 60.1  37.3 22.8 \n",
       "5 27.8    24  184.25 71.25  25.6      34.4  97.3 100.0   101.9 63.2  42.2 24.0 \n",
       "6 20.6    24  210.25 74.75  26.5      39.0 104.5  94.4   107.8 66.0  42.0 25.6 \n",
       "  BICEPS FOREARM WRIST\n",
       "1 32.0   27.4    17.1 \n",
       "2 30.5   28.9    18.2 \n",
       "3 28.8   25.2    16.6 \n",
       "4 32.4   29.4    18.2 \n",
       "5 32.2   27.7    17.7 \n",
       "6 35.7   30.6    18.8 "
      ]
     },
     "metadata": {},
     "output_type": "display_data"
    },
    {
     "name": "stdout",
     "output_type": "stream",
     "text": [
      "Start:  AIC=691.79\n",
      "BODYFAT ~ AGE + WEIGHT + HEIGHT + ADIPOSITY + NECK + CHEST + \n",
      "    ABDOMEN + HIP + THIGH + KNEE + ANKLE + BICEPS + FOREARM + \n",
      "    WRIST\n",
      "\n",
      "            Df Sum of Sq    RSS    AIC\n",
      "- HEIGHT     1      0.97 3625.7 689.85\n",
      "- KNEE       1      1.11 3625.8 689.86\n",
      "- CHEST      1      1.31 3626.0 689.88\n",
      "- ADIPOSITY  1      1.93 3626.6 689.92\n",
      "- ANKLE      1      8.26 3633.0 690.35\n",
      "- BICEPS     1     12.31 3637.0 690.62\n",
      "- WEIGHT     1     18.81 3643.5 691.06\n",
      "<none>                   3624.7 691.79\n",
      "- HIP        1     37.23 3661.9 692.30\n",
      "- THIGH      1     42.71 3667.4 692.67\n",
      "- AGE        1     47.96 3672.7 693.02\n",
      "- NECK       1     65.57 3690.3 694.20\n",
      "- FOREARM    1     76.57 3701.3 694.93\n",
      "- WRIST      1    148.63 3773.3 699.67\n",
      "- ABDOMEN    1   1620.94 5245.6 780.72\n",
      "\n",
      "Step:  AIC=689.85\n",
      "BODYFAT ~ AGE + WEIGHT + ADIPOSITY + NECK + CHEST + ABDOMEN + \n",
      "    HIP + THIGH + KNEE + ANKLE + BICEPS + FOREARM + WRIST\n",
      "\n",
      "            Df Sum of Sq    RSS    AIC\n",
      "- CHEST      1      1.01 3626.7 687.92\n",
      "- KNEE       1      1.31 3627.0 687.94\n",
      "- ADIPOSITY  1      2.11 3627.8 688.00\n",
      "- ANKLE      1      8.85 3634.5 688.45\n",
      "- BICEPS     1     12.08 3637.7 688.67\n",
      "<none>                   3625.7 689.85\n",
      "- HIP        1     36.38 3662.0 690.31\n",
      "- THIGH      1     42.05 3667.7 690.69\n",
      "- AGE        1     47.28 3672.9 691.04\n",
      "- WEIGHT     1     65.24 3690.9 692.24\n",
      "- NECK       1     66.82 3692.5 692.35\n",
      "- FOREARM    1     80.25 3705.9 693.24\n",
      "- WRIST      1    147.95 3773.6 697.69\n",
      "- ABDOMEN    1   1636.83 5262.5 779.50\n",
      "\n",
      "Step:  AIC=687.92\n",
      "BODYFAT ~ AGE + WEIGHT + ADIPOSITY + NECK + ABDOMEN + HIP + THIGH + \n",
      "    KNEE + ANKLE + BICEPS + FOREARM + WRIST\n",
      "\n",
      "            Df Sum of Sq    RSS    AIC\n",
      "- ADIPOSITY  1      1.30 3628.0 686.01\n",
      "- KNEE       1      1.36 3628.0 686.01\n",
      "- ANKLE      1      9.26 3635.9 686.55\n",
      "- BICEPS     1     11.70 3638.4 686.71\n",
      "<none>                   3626.7 687.92\n",
      "- HIP        1     35.50 3662.2 688.32\n",
      "- AGE        1     46.93 3673.6 689.09\n",
      "- THIGH      1     47.07 3673.7 689.09\n",
      "- NECK       1     66.49 3693.2 690.39\n",
      "- FOREARM    1     79.28 3705.9 691.24\n",
      "- WEIGHT     1     83.80 3710.5 691.54\n",
      "- WRIST      1    147.23 3773.9 695.71\n",
      "- ABDOMEN    1   1780.17 5406.8 784.16\n",
      "\n",
      "Step:  AIC=686.01\n",
      "BODYFAT ~ AGE + WEIGHT + NECK + ABDOMEN + HIP + THIGH + KNEE + \n",
      "    ANKLE + BICEPS + FOREARM + WRIST\n",
      "\n",
      "          Df Sum of Sq    RSS    AIC\n",
      "- KNEE     1      0.89 3628.9 684.07\n",
      "- ANKLE    1     10.22 3638.2 684.70\n",
      "- BICEPS   1     13.25 3641.2 684.91\n",
      "<none>                 3628.0 686.01\n",
      "- HIP      1     34.21 3662.2 686.32\n",
      "- AGE      1     48.95 3676.9 687.31\n",
      "- THIGH    1     52.24 3680.2 687.53\n",
      "- NECK     1     65.20 3693.2 688.39\n",
      "- FOREARM  1     81.43 3709.4 689.47\n",
      "- WEIGHT   1     83.64 3711.6 689.62\n",
      "- WRIST    1    148.39 3776.4 693.87\n",
      "- ABDOMEN  1   2459.97 6087.9 811.35\n",
      "\n",
      "Step:  AIC=684.07\n",
      "BODYFAT ~ AGE + WEIGHT + NECK + ABDOMEN + HIP + THIGH + ANKLE + \n",
      "    BICEPS + FOREARM + WRIST\n",
      "\n",
      "          Df Sum of Sq    RSS    AIC\n",
      "- ANKLE    1     11.69 3640.5 682.86\n",
      "- BICEPS   1     12.78 3641.6 682.93\n",
      "<none>                 3628.9 684.07\n",
      "- HIP      1     33.72 3662.6 684.35\n",
      "- AGE      1     54.50 3683.4 685.74\n",
      "- THIGH    1     59.95 3688.8 686.10\n",
      "- NECK     1     68.85 3697.7 686.69\n",
      "- FOREARM  1     83.16 3712.0 687.64\n",
      "- WEIGHT   1     85.95 3714.8 687.83\n",
      "- WRIST    1    147.50 3776.4 691.87\n",
      "- ABDOMEN  1   2481.46 6110.3 810.25\n",
      "\n",
      "Step:  AIC=682.86\n",
      "BODYFAT ~ AGE + WEIGHT + NECK + ABDOMEN + HIP + THIGH + BICEPS + \n",
      "    FOREARM + WRIST\n",
      "\n",
      "          Df Sum of Sq    RSS    AIC\n",
      "- BICEPS   1     11.34 3651.9 681.63\n",
      "<none>                 3640.5 682.86\n",
      "- HIP      1     35.00 3675.5 683.21\n",
      "- AGE      1     52.33 3692.9 684.37\n",
      "- THIGH    1     62.80 3703.3 685.07\n",
      "- WEIGHT   1     75.19 3715.7 685.89\n",
      "- NECK     1     78.67 3719.2 686.12\n",
      "- FOREARM  1     82.56 3723.1 686.38\n",
      "- WRIST    1    135.84 3776.4 689.87\n",
      "- ABDOMEN  1   2491.24 6131.8 809.11\n",
      "\n",
      "Step:  AIC=681.63\n",
      "BODYFAT ~ AGE + WEIGHT + NECK + ABDOMEN + HIP + THIGH + FOREARM + \n",
      "    WRIST\n",
      "\n",
      "          Df Sum of Sq    RSS    AIC\n",
      "<none>                 3651.9 681.63\n",
      "- HIP      1     38.54 3690.4 682.21\n",
      "- AGE      1     56.31 3708.2 683.39\n",
      "- WEIGHT   1     66.49 3718.4 684.06\n",
      "- NECK     1     73.33 3725.2 684.52\n",
      "- THIGH    1     82.26 3734.1 685.11\n",
      "- FOREARM  1    113.82 3765.7 687.18\n",
      "- WRIST    1    134.05 3785.9 688.49\n",
      "- ABDOMEN  1   2479.96 6131.8 807.12\n"
     ]
    }
   ],
   "source": [
    "## Backward\n",
    "head(data[,-c(1,3)])\n",
    "first = lm(BODYFAT~., data = data[,-c(1,3)])\n",
    "lm_back = step(first, direction = \"backward\")"
   ]
  },
  {
   "cell_type": "code",
   "execution_count": 20,
   "metadata": {},
   "outputs": [
    {
     "data": {
      "text/plain": [
       "\n",
       "Call:\n",
       "lm(formula = BODYFAT ~ AGE + WEIGHT + NECK + ABDOMEN + HIP + \n",
       "    THIGH + FOREARM + WRIST, data = data[, -c(1, 3)])\n",
       "\n",
       "Residuals:\n",
       "     Min       1Q   Median       3Q      Max \n",
       "-10.1487  -2.7485  -0.1337   2.7559   9.6396 \n",
       "\n",
       "Coefficients:\n",
       "             Estimate Std. Error t value Pr(>|t|)    \n",
       "(Intercept) -16.77706   10.81100  -1.552  0.12203    \n",
       "AGE           0.05485    0.02869   1.912  0.05713 .  \n",
       "WEIGHT       -0.07710    0.03712  -2.077  0.03885 *  \n",
       "NECK         -0.45144    0.20694  -2.182  0.03013 *  \n",
       "ABDOMEN       0.86215    0.06796  12.686  < 2e-16 ***\n",
       "HIP          -0.20248    0.12803  -1.581  0.11510    \n",
       "THIGH         0.27941    0.12093   2.310  0.02172 *  \n",
       "FOREARM       0.46520    0.17117   2.718  0.00706 ** \n",
       "WRIST        -1.38695    0.47023  -2.949  0.00350 ** \n",
       "---\n",
       "Signif. codes:  0 '***' 0.001 '**' 0.01 '*' 0.05 '.' 0.1 ' ' 1\n",
       "\n",
       "Residual standard error: 3.925 on 237 degrees of freedom\n",
       "Multiple R-squared:  0.7311,\tAdjusted R-squared:  0.7221 \n",
       "F-statistic: 80.56 on 8 and 237 DF,  p-value: < 2.2e-16\n"
      ]
     },
     "metadata": {},
     "output_type": "display_data"
    }
   ],
   "source": [
    "summary(lm_back)"
   ]
  },
  {
   "cell_type": "code",
   "execution_count": 21,
   "metadata": {},
   "outputs": [
    {
     "name": "stdout",
     "output_type": "stream",
     "text": [
      "Start:  AIC=691.79\n",
      "BODYFAT ~ AGE + WEIGHT + HEIGHT + ADIPOSITY + NECK + CHEST + \n",
      "    ABDOMEN + HIP + THIGH + KNEE + ANKLE + BICEPS + FOREARM + \n",
      "    WRIST\n",
      "\n",
      "            Df Sum of Sq    RSS    AIC\n",
      "- HEIGHT     1      0.97 3625.7 689.85\n",
      "- KNEE       1      1.11 3625.8 689.86\n",
      "- CHEST      1      1.31 3626.0 689.88\n",
      "- ADIPOSITY  1      1.93 3626.6 689.92\n",
      "- ANKLE      1      8.26 3633.0 690.35\n",
      "- BICEPS     1     12.31 3637.0 690.62\n",
      "- WEIGHT     1     18.81 3643.5 691.06\n",
      "<none>                   3624.7 691.79\n",
      "- HIP        1     37.23 3661.9 692.30\n",
      "- THIGH      1     42.71 3667.4 692.67\n",
      "- AGE        1     47.96 3672.7 693.02\n",
      "- NECK       1     65.57 3690.3 694.20\n",
      "- FOREARM    1     76.57 3701.3 694.93\n",
      "- WRIST      1    148.63 3773.3 699.67\n",
      "- ABDOMEN    1   1620.94 5245.6 780.72\n",
      "\n",
      "Step:  AIC=689.85\n",
      "BODYFAT ~ AGE + WEIGHT + ADIPOSITY + NECK + CHEST + ABDOMEN + \n",
      "    HIP + THIGH + KNEE + ANKLE + BICEPS + FOREARM + WRIST\n",
      "\n",
      "            Df Sum of Sq    RSS    AIC\n",
      "- CHEST      1      1.01 3626.7 687.92\n",
      "- KNEE       1      1.31 3627.0 687.94\n",
      "- ADIPOSITY  1      2.11 3627.8 688.00\n",
      "- ANKLE      1      8.85 3634.5 688.45\n",
      "- BICEPS     1     12.08 3637.7 688.67\n",
      "<none>                   3625.7 689.85\n",
      "- HIP        1     36.38 3662.0 690.31\n",
      "- THIGH      1     42.05 3667.7 690.69\n",
      "- AGE        1     47.28 3672.9 691.04\n",
      "+ HEIGHT     1      0.97 3624.7 691.79\n",
      "- WEIGHT     1     65.24 3690.9 692.24\n",
      "- NECK       1     66.82 3692.5 692.35\n",
      "- FOREARM    1     80.25 3705.9 693.24\n",
      "- WRIST      1    147.95 3773.6 697.69\n",
      "- ABDOMEN    1   1636.83 5262.5 779.50\n",
      "\n",
      "Step:  AIC=687.92\n",
      "BODYFAT ~ AGE + WEIGHT + ADIPOSITY + NECK + ABDOMEN + HIP + THIGH + \n",
      "    KNEE + ANKLE + BICEPS + FOREARM + WRIST\n",
      "\n",
      "            Df Sum of Sq    RSS    AIC\n",
      "- ADIPOSITY  1      1.30 3628.0 686.01\n",
      "- KNEE       1      1.36 3628.0 686.01\n",
      "- ANKLE      1      9.26 3635.9 686.55\n",
      "- BICEPS     1     11.70 3638.4 686.71\n",
      "<none>                   3626.7 687.92\n",
      "- HIP        1     35.50 3662.2 688.32\n",
      "- AGE        1     46.93 3673.6 689.09\n",
      "- THIGH      1     47.07 3673.7 689.09\n",
      "+ CHEST      1      1.01 3625.7 689.85\n",
      "+ HEIGHT     1      0.67 3626.0 689.88\n",
      "- NECK       1     66.49 3693.2 690.39\n",
      "- FOREARM    1     79.28 3705.9 691.24\n",
      "- WEIGHT     1     83.80 3710.5 691.54\n",
      "- WRIST      1    147.23 3773.9 695.71\n",
      "- ABDOMEN    1   1780.17 5406.8 784.16\n",
      "\n",
      "Step:  AIC=686.01\n",
      "BODYFAT ~ AGE + WEIGHT + NECK + ABDOMEN + HIP + THIGH + KNEE + \n",
      "    ANKLE + BICEPS + FOREARM + WRIST\n",
      "\n",
      "            Df Sum of Sq    RSS    AIC\n",
      "- KNEE       1      0.89 3628.9 684.07\n",
      "- ANKLE      1     10.22 3638.2 684.70\n",
      "- BICEPS     1     13.25 3641.2 684.91\n",
      "<none>                   3628.0 686.01\n",
      "- HIP        1     34.21 3662.2 686.32\n",
      "- AGE        1     48.95 3676.9 687.31\n",
      "- THIGH      1     52.24 3680.2 687.53\n",
      "+ ADIPOSITY  1      1.30 3626.7 687.92\n",
      "+ HEIGHT     1      0.72 3627.3 687.96\n",
      "+ CHEST      1      0.20 3627.8 688.00\n",
      "- NECK       1     65.20 3693.2 688.39\n",
      "- FOREARM    1     81.43 3709.4 689.47\n",
      "- WEIGHT     1     83.64 3711.6 689.62\n",
      "- WRIST      1    148.39 3776.4 693.87\n",
      "- ABDOMEN    1   2459.97 6087.9 811.35\n",
      "\n",
      "Step:  AIC=684.07\n",
      "BODYFAT ~ AGE + WEIGHT + NECK + ABDOMEN + HIP + THIGH + ANKLE + \n",
      "    BICEPS + FOREARM + WRIST\n",
      "\n",
      "            Df Sum of Sq    RSS    AIC\n",
      "- ANKLE      1     11.69 3640.5 682.86\n",
      "- BICEPS     1     12.78 3641.6 682.93\n",
      "<none>                   3628.9 684.07\n",
      "- HIP        1     33.72 3662.6 684.35\n",
      "- AGE        1     54.50 3683.4 685.74\n",
      "+ KNEE       1      0.89 3628.0 686.01\n",
      "+ ADIPOSITY  1      0.82 3628.0 686.01\n",
      "+ HEIGHT     1      0.37 3628.5 686.05\n",
      "+ CHEST      1      0.30 3628.6 686.05\n",
      "- THIGH      1     59.95 3688.8 686.10\n",
      "- NECK       1     68.85 3697.7 686.69\n",
      "- FOREARM    1     83.16 3712.0 687.64\n",
      "- WEIGHT     1     85.95 3714.8 687.83\n",
      "- WRIST      1    147.50 3776.4 691.87\n",
      "- ABDOMEN    1   2481.46 6110.3 810.25\n",
      "\n",
      "Step:  AIC=682.86\n",
      "BODYFAT ~ AGE + WEIGHT + NECK + ABDOMEN + HIP + THIGH + BICEPS + \n",
      "    FOREARM + WRIST\n",
      "\n",
      "            Df Sum of Sq    RSS    AIC\n",
      "- BICEPS     1     11.34 3651.9 681.63\n",
      "<none>                   3640.5 682.86\n",
      "- HIP        1     35.00 3675.5 683.21\n",
      "+ ANKLE      1     11.69 3628.9 684.07\n",
      "- AGE        1     52.33 3692.9 684.37\n",
      "+ KNEE       1      2.36 3638.2 684.70\n",
      "+ ADIPOSITY  1      1.36 3639.2 684.77\n",
      "+ HEIGHT     1      0.57 3640.0 684.82\n",
      "+ CHEST      1      0.42 3640.1 684.83\n",
      "- THIGH      1     62.80 3703.3 685.07\n",
      "- WEIGHT     1     75.19 3715.7 685.89\n",
      "- NECK       1     78.67 3719.2 686.12\n",
      "- FOREARM    1     82.56 3723.1 686.38\n",
      "- WRIST      1    135.84 3776.4 689.87\n",
      "- ABDOMEN    1   2491.24 6131.8 809.11\n",
      "\n",
      "Step:  AIC=681.63\n",
      "BODYFAT ~ AGE + WEIGHT + NECK + ABDOMEN + HIP + THIGH + FOREARM + \n",
      "    WRIST\n",
      "\n",
      "            Df Sum of Sq    RSS    AIC\n",
      "<none>                   3651.9 681.63\n",
      "- HIP        1     38.54 3690.4 682.21\n",
      "+ BICEPS     1     11.34 3640.5 682.86\n",
      "+ ANKLE      1     10.24 3641.6 682.93\n",
      "- AGE        1     56.31 3708.2 683.39\n",
      "+ ADIPOSITY  1      2.88 3649.0 683.43\n",
      "+ HEIGHT     1      1.71 3650.2 683.51\n",
      "+ KNEE       1      1.49 3650.4 683.53\n",
      "+ CHEST      1      0.04 3651.8 683.62\n",
      "- WEIGHT     1     66.49 3718.4 684.06\n",
      "- NECK       1     73.33 3725.2 684.52\n",
      "- THIGH      1     82.26 3734.1 685.11\n",
      "- FOREARM    1    113.82 3765.7 687.18\n",
      "- WRIST      1    134.05 3785.9 688.49\n",
      "- ABDOMEN    1   2479.96 6131.8 807.12\n"
     ]
    }
   ],
   "source": [
    "## both\n",
    "lm_both = step(first, direction = \"both\")"
   ]
  },
  {
   "cell_type": "code",
   "execution_count": 22,
   "metadata": {
    "scrolled": true
   },
   "outputs": [
    {
     "data": {
      "text/plain": [
       "\n",
       "Call:\n",
       "lm(formula = BODYFAT ~ AGE + WEIGHT + NECK + ABDOMEN + HIP + \n",
       "    THIGH + FOREARM + WRIST, data = data[, -c(1, 3)])\n",
       "\n",
       "Residuals:\n",
       "     Min       1Q   Median       3Q      Max \n",
       "-10.1487  -2.7485  -0.1337   2.7559   9.6396 \n",
       "\n",
       "Coefficients:\n",
       "             Estimate Std. Error t value Pr(>|t|)    \n",
       "(Intercept) -16.77706   10.81100  -1.552  0.12203    \n",
       "AGE           0.05485    0.02869   1.912  0.05713 .  \n",
       "WEIGHT       -0.07710    0.03712  -2.077  0.03885 *  \n",
       "NECK         -0.45144    0.20694  -2.182  0.03013 *  \n",
       "ABDOMEN       0.86215    0.06796  12.686  < 2e-16 ***\n",
       "HIP          -0.20248    0.12803  -1.581  0.11510    \n",
       "THIGH         0.27941    0.12093   2.310  0.02172 *  \n",
       "FOREARM       0.46520    0.17117   2.718  0.00706 ** \n",
       "WRIST        -1.38695    0.47023  -2.949  0.00350 ** \n",
       "---\n",
       "Signif. codes:  0 '***' 0.001 '**' 0.01 '*' 0.05 '.' 0.1 ' ' 1\n",
       "\n",
       "Residual standard error: 3.925 on 237 degrees of freedom\n",
       "Multiple R-squared:  0.7311,\tAdjusted R-squared:  0.7221 \n",
       "F-statistic: 80.56 on 8 and 237 DF,  p-value: < 2.2e-16\n"
      ]
     },
     "metadata": {},
     "output_type": "display_data"
    }
   ],
   "source": [
    "summary(lm_both)"
   ]
  },
  {
   "cell_type": "code",
   "execution_count": 23,
   "metadata": {},
   "outputs": [
    {
     "data": {
      "text/html": [
       "<table>\n",
       "<thead><tr><th scope=col>IDNO</th><th scope=col>BODYFAT</th><th scope=col>DENSITY</th><th scope=col>AGE</th><th scope=col>WEIGHT</th><th scope=col>HEIGHT</th><th scope=col>ADIPOSITY</th><th scope=col>NECK</th><th scope=col>CHEST</th><th scope=col>ABDOMEN</th><th scope=col>HIP</th><th scope=col>THIGH</th><th scope=col>KNEE</th><th scope=col>ANKLE</th><th scope=col>BICEPS</th><th scope=col>FOREARM</th><th scope=col>WRIST</th></tr></thead>\n",
       "<tbody>\n",
       "\t<tr><td>1     </td><td>12.6  </td><td>1.0708</td><td>23    </td><td>154.25</td><td>67.75 </td><td>23.7  </td><td>36.2  </td><td> 93.1 </td><td> 85.2 </td><td> 94.5 </td><td>59.0  </td><td>37.3  </td><td>21.9  </td><td>32.0  </td><td>27.4  </td><td>17.1  </td></tr>\n",
       "\t<tr><td>2     </td><td> 6.9  </td><td>1.0853</td><td>22    </td><td>173.25</td><td>72.25 </td><td>23.4  </td><td>38.5  </td><td> 93.6 </td><td> 83.0 </td><td> 98.7 </td><td>58.7  </td><td>37.3  </td><td>23.4  </td><td>30.5  </td><td>28.9  </td><td>18.2  </td></tr>\n",
       "\t<tr><td>3     </td><td>24.6  </td><td>1.0414</td><td>22    </td><td>154.00</td><td>66.25 </td><td>24.7  </td><td>34.0  </td><td> 95.8 </td><td> 87.9 </td><td> 99.2 </td><td>59.6  </td><td>38.9  </td><td>24.0  </td><td>28.8  </td><td>25.2  </td><td>16.6  </td></tr>\n",
       "\t<tr><td>4     </td><td>10.9  </td><td>1.0751</td><td>26    </td><td>184.75</td><td>72.25 </td><td>24.9  </td><td>37.4  </td><td>101.8 </td><td> 86.4 </td><td>101.2 </td><td>60.1  </td><td>37.3  </td><td>22.8  </td><td>32.4  </td><td>29.4  </td><td>18.2  </td></tr>\n",
       "\t<tr><td>5     </td><td>27.8  </td><td>1.0340</td><td>24    </td><td>184.25</td><td>71.25 </td><td>25.6  </td><td>34.4  </td><td> 97.3 </td><td>100.0 </td><td>101.9 </td><td>63.2  </td><td>42.2  </td><td>24.0  </td><td>32.2  </td><td>27.7  </td><td>17.7  </td></tr>\n",
       "\t<tr><td>6     </td><td>20.6  </td><td>1.0502</td><td>24    </td><td>210.25</td><td>74.75 </td><td>26.5  </td><td>39.0  </td><td>104.5 </td><td> 94.4 </td><td>107.8 </td><td>66.0  </td><td>42.0  </td><td>25.6  </td><td>35.7  </td><td>30.6  </td><td>18.8  </td></tr>\n",
       "</tbody>\n",
       "</table>\n"
      ],
      "text/latex": [
       "\\begin{tabular}{r|lllllllllllllllll}\n",
       " IDNO & BODYFAT & DENSITY & AGE & WEIGHT & HEIGHT & ADIPOSITY & NECK & CHEST & ABDOMEN & HIP & THIGH & KNEE & ANKLE & BICEPS & FOREARM & WRIST\\\\\n",
       "\\hline\n",
       "\t 1      & 12.6   & 1.0708 & 23     & 154.25 & 67.75  & 23.7   & 36.2   &  93.1  &  85.2  &  94.5  & 59.0   & 37.3   & 21.9   & 32.0   & 27.4   & 17.1  \\\\\n",
       "\t 2      &  6.9   & 1.0853 & 22     & 173.25 & 72.25  & 23.4   & 38.5   &  93.6  &  83.0  &  98.7  & 58.7   & 37.3   & 23.4   & 30.5   & 28.9   & 18.2  \\\\\n",
       "\t 3      & 24.6   & 1.0414 & 22     & 154.00 & 66.25  & 24.7   & 34.0   &  95.8  &  87.9  &  99.2  & 59.6   & 38.9   & 24.0   & 28.8   & 25.2   & 16.6  \\\\\n",
       "\t 4      & 10.9   & 1.0751 & 26     & 184.75 & 72.25  & 24.9   & 37.4   & 101.8  &  86.4  & 101.2  & 60.1   & 37.3   & 22.8   & 32.4   & 29.4   & 18.2  \\\\\n",
       "\t 5      & 27.8   & 1.0340 & 24     & 184.25 & 71.25  & 25.6   & 34.4   &  97.3  & 100.0  & 101.9  & 63.2   & 42.2   & 24.0   & 32.2   & 27.7   & 17.7  \\\\\n",
       "\t 6      & 20.6   & 1.0502 & 24     & 210.25 & 74.75  & 26.5   & 39.0   & 104.5  &  94.4  & 107.8  & 66.0   & 42.0   & 25.6   & 35.7   & 30.6   & 18.8  \\\\\n",
       "\\end{tabular}\n"
      ],
      "text/markdown": [
       "\n",
       "| IDNO | BODYFAT | DENSITY | AGE | WEIGHT | HEIGHT | ADIPOSITY | NECK | CHEST | ABDOMEN | HIP | THIGH | KNEE | ANKLE | BICEPS | FOREARM | WRIST |\n",
       "|---|---|---|---|---|---|---|---|---|---|---|---|---|---|---|---|---|\n",
       "| 1      | 12.6   | 1.0708 | 23     | 154.25 | 67.75  | 23.7   | 36.2   |  93.1  |  85.2  |  94.5  | 59.0   | 37.3   | 21.9   | 32.0   | 27.4   | 17.1   |\n",
       "| 2      |  6.9   | 1.0853 | 22     | 173.25 | 72.25  | 23.4   | 38.5   |  93.6  |  83.0  |  98.7  | 58.7   | 37.3   | 23.4   | 30.5   | 28.9   | 18.2   |\n",
       "| 3      | 24.6   | 1.0414 | 22     | 154.00 | 66.25  | 24.7   | 34.0   |  95.8  |  87.9  |  99.2  | 59.6   | 38.9   | 24.0   | 28.8   | 25.2   | 16.6   |\n",
       "| 4      | 10.9   | 1.0751 | 26     | 184.75 | 72.25  | 24.9   | 37.4   | 101.8  |  86.4  | 101.2  | 60.1   | 37.3   | 22.8   | 32.4   | 29.4   | 18.2   |\n",
       "| 5      | 27.8   | 1.0340 | 24     | 184.25 | 71.25  | 25.6   | 34.4   |  97.3  | 100.0  | 101.9  | 63.2   | 42.2   | 24.0   | 32.2   | 27.7   | 17.7   |\n",
       "| 6      | 20.6   | 1.0502 | 24     | 210.25 | 74.75  | 26.5   | 39.0   | 104.5  |  94.4  | 107.8  | 66.0   | 42.0   | 25.6   | 35.7   | 30.6   | 18.8   |\n",
       "\n"
      ],
      "text/plain": [
       "  IDNO BODYFAT DENSITY AGE WEIGHT HEIGHT ADIPOSITY NECK CHEST ABDOMEN HIP  \n",
       "1 1    12.6    1.0708  23  154.25 67.75  23.7      36.2  93.1  85.2    94.5\n",
       "2 2     6.9    1.0853  22  173.25 72.25  23.4      38.5  93.6  83.0    98.7\n",
       "3 3    24.6    1.0414  22  154.00 66.25  24.7      34.0  95.8  87.9    99.2\n",
       "4 4    10.9    1.0751  26  184.75 72.25  24.9      37.4 101.8  86.4   101.2\n",
       "5 5    27.8    1.0340  24  184.25 71.25  25.6      34.4  97.3 100.0   101.9\n",
       "6 6    20.6    1.0502  24  210.25 74.75  26.5      39.0 104.5  94.4   107.8\n",
       "  THIGH KNEE ANKLE BICEPS FOREARM WRIST\n",
       "1 59.0  37.3 21.9  32.0   27.4    17.1 \n",
       "2 58.7  37.3 23.4  30.5   28.9    18.2 \n",
       "3 59.6  38.9 24.0  28.8   25.2    16.6 \n",
       "4 60.1  37.3 22.8  32.4   29.4    18.2 \n",
       "5 63.2  42.2 24.0  32.2   27.7    17.7 \n",
       "6 66.0  42.0 25.6  35.7   30.6    18.8 "
      ]
     },
     "metadata": {},
     "output_type": "display_data"
    }
   ],
   "source": [
    "head(data)"
   ]
  },
  {
   "cell_type": "code",
   "execution_count": 24,
   "metadata": {},
   "outputs": [
    {
     "data": {
      "text/html": [
       "<table>\n",
       "<thead><tr><th scope=col>AGE</th><th scope=col>WEIGHT</th><th scope=col>NECK</th><th scope=col>ABDOMEN</th><th scope=col>HIP</th><th scope=col>THIGH</th><th scope=col>FOREARM</th><th scope=col>WRIST</th></tr></thead>\n",
       "<tbody>\n",
       "\t<tr><td>23    </td><td>154.25</td><td>36.2  </td><td> 85.2 </td><td> 94.5 </td><td>59.0  </td><td>27.4  </td><td>17.1  </td></tr>\n",
       "\t<tr><td>22    </td><td>173.25</td><td>38.5  </td><td> 83.0 </td><td> 98.7 </td><td>58.7  </td><td>28.9  </td><td>18.2  </td></tr>\n",
       "\t<tr><td>22    </td><td>154.00</td><td>34.0  </td><td> 87.9 </td><td> 99.2 </td><td>59.6  </td><td>25.2  </td><td>16.6  </td></tr>\n",
       "\t<tr><td>26    </td><td>184.75</td><td>37.4  </td><td> 86.4 </td><td>101.2 </td><td>60.1  </td><td>29.4  </td><td>18.2  </td></tr>\n",
       "\t<tr><td>24    </td><td>184.25</td><td>34.4  </td><td>100.0 </td><td>101.9 </td><td>63.2  </td><td>27.7  </td><td>17.7  </td></tr>\n",
       "\t<tr><td>24    </td><td>210.25</td><td>39.0  </td><td> 94.4 </td><td>107.8 </td><td>66.0  </td><td>30.6  </td><td>18.8  </td></tr>\n",
       "</tbody>\n",
       "</table>\n"
      ],
      "text/latex": [
       "\\begin{tabular}{r|llllllll}\n",
       " AGE & WEIGHT & NECK & ABDOMEN & HIP & THIGH & FOREARM & WRIST\\\\\n",
       "\\hline\n",
       "\t 23     & 154.25 & 36.2   &  85.2  &  94.5  & 59.0   & 27.4   & 17.1  \\\\\n",
       "\t 22     & 173.25 & 38.5   &  83.0  &  98.7  & 58.7   & 28.9   & 18.2  \\\\\n",
       "\t 22     & 154.00 & 34.0   &  87.9  &  99.2  & 59.6   & 25.2   & 16.6  \\\\\n",
       "\t 26     & 184.75 & 37.4   &  86.4  & 101.2  & 60.1   & 29.4   & 18.2  \\\\\n",
       "\t 24     & 184.25 & 34.4   & 100.0  & 101.9  & 63.2   & 27.7   & 17.7  \\\\\n",
       "\t 24     & 210.25 & 39.0   &  94.4  & 107.8  & 66.0   & 30.6   & 18.8  \\\\\n",
       "\\end{tabular}\n"
      ],
      "text/markdown": [
       "\n",
       "| AGE | WEIGHT | NECK | ABDOMEN | HIP | THIGH | FOREARM | WRIST |\n",
       "|---|---|---|---|---|---|---|---|\n",
       "| 23     | 154.25 | 36.2   |  85.2  |  94.5  | 59.0   | 27.4   | 17.1   |\n",
       "| 22     | 173.25 | 38.5   |  83.0  |  98.7  | 58.7   | 28.9   | 18.2   |\n",
       "| 22     | 154.00 | 34.0   |  87.9  |  99.2  | 59.6   | 25.2   | 16.6   |\n",
       "| 26     | 184.75 | 37.4   |  86.4  | 101.2  | 60.1   | 29.4   | 18.2   |\n",
       "| 24     | 184.25 | 34.4   | 100.0  | 101.9  | 63.2   | 27.7   | 17.7   |\n",
       "| 24     | 210.25 | 39.0   |  94.4  | 107.8  | 66.0   | 30.6   | 18.8   |\n",
       "\n"
      ],
      "text/plain": [
       "  AGE WEIGHT NECK ABDOMEN HIP   THIGH FOREARM WRIST\n",
       "1 23  154.25 36.2  85.2    94.5 59.0  27.4    17.1 \n",
       "2 22  173.25 38.5  83.0    98.7 58.7  28.9    18.2 \n",
       "3 22  154.00 34.0  87.9    99.2 59.6  25.2    16.6 \n",
       "4 26  184.75 37.4  86.4   101.2 60.1  29.4    18.2 \n",
       "5 24  184.25 34.4 100.0   101.9 63.2  27.7    17.7 \n",
       "6 24  210.25 39.0  94.4   107.8 66.0  30.6    18.8 "
      ]
     },
     "metadata": {},
     "output_type": "display_data"
    }
   ],
   "source": [
    "index_select = c(4,5,8,10,11,12,16,17)\n",
    "head(data[,index_select])"
   ]
  },
  {
   "cell_type": "code",
   "execution_count": 25,
   "metadata": {},
   "outputs": [
    {
     "name": "stdout",
     "output_type": "stream",
     "text": [
      " [1] 0.0000000000 0.0000000000 0.0000000000 0.0819969221 0.3596154991\n",
      " [6] 0.0001893234 0.4974177154 0.2195656725 0.4743394790 0.6432206620\n",
      "[11] 0.3692352111 0.2989239847 0.2678883669 0.0627831112 0.2232073682\n",
      "[16] 0.1201835482 0.1146801416\n"
     ]
    }
   ],
   "source": [
    "## select a variable\n",
    "r = rep(0,14)\n",
    "for (i in 4:17){\n",
    "    lm_fit = lm(BODYFAT~data[,i], data = data)\n",
    "    r[i] = summary(lm_fit)$r.squared\n",
    "}\n",
    "print(r)"
   ]
  },
  {
   "cell_type": "code",
   "execution_count": 26,
   "metadata": {},
   "outputs": [
    {
     "data": {
      "text/html": [
       "<dl>\n",
       "\t<dt>$x</dt>\n",
       "\t\t<dd><ol class=list-inline>\n",
       "\t<li>0.643220661989031</li>\n",
       "\t<li>0.497417715360405</li>\n",
       "\t<li>0.474339478971012</li>\n",
       "\t<li>0.369235211143239</li>\n",
       "\t<li>0.359615499053312</li>\n",
       "\t<li>0.298923984732073</li>\n",
       "\t<li>0.267888366922255</li>\n",
       "\t<li>0.223207368232993</li>\n",
       "\t<li>0.219565672500808</li>\n",
       "\t<li>0.120183548172644</li>\n",
       "\t<li>0.114680141614857</li>\n",
       "\t<li>0.0819969221188271</li>\n",
       "\t<li>0.0627831112347838</li>\n",
       "\t<li>0.000189323406658695</li>\n",
       "\t<li>0</li>\n",
       "\t<li>0</li>\n",
       "\t<li>0</li>\n",
       "</ol>\n",
       "</dd>\n",
       "\t<dt>$ix</dt>\n",
       "\t\t<dd><ol class=list-inline>\n",
       "\t<li>10</li>\n",
       "\t<li>7</li>\n",
       "\t<li>9</li>\n",
       "\t<li>11</li>\n",
       "\t<li>5</li>\n",
       "\t<li>12</li>\n",
       "\t<li>13</li>\n",
       "\t<li>15</li>\n",
       "\t<li>8</li>\n",
       "\t<li>16</li>\n",
       "\t<li>17</li>\n",
       "\t<li>4</li>\n",
       "\t<li>14</li>\n",
       "\t<li>6</li>\n",
       "\t<li>1</li>\n",
       "\t<li>2</li>\n",
       "\t<li>3</li>\n",
       "</ol>\n",
       "</dd>\n",
       "</dl>\n"
      ],
      "text/latex": [
       "\\begin{description}\n",
       "\\item[\\$x] \\begin{enumerate*}\n",
       "\\item 0.643220661989031\n",
       "\\item 0.497417715360405\n",
       "\\item 0.474339478971012\n",
       "\\item 0.369235211143239\n",
       "\\item 0.359615499053312\n",
       "\\item 0.298923984732073\n",
       "\\item 0.267888366922255\n",
       "\\item 0.223207368232993\n",
       "\\item 0.219565672500808\n",
       "\\item 0.120183548172644\n",
       "\\item 0.114680141614857\n",
       "\\item 0.0819969221188271\n",
       "\\item 0.0627831112347838\n",
       "\\item 0.000189323406658695\n",
       "\\item 0\n",
       "\\item 0\n",
       "\\item 0\n",
       "\\end{enumerate*}\n",
       "\n",
       "\\item[\\$ix] \\begin{enumerate*}\n",
       "\\item 10\n",
       "\\item 7\n",
       "\\item 9\n",
       "\\item 11\n",
       "\\item 5\n",
       "\\item 12\n",
       "\\item 13\n",
       "\\item 15\n",
       "\\item 8\n",
       "\\item 16\n",
       "\\item 17\n",
       "\\item 4\n",
       "\\item 14\n",
       "\\item 6\n",
       "\\item 1\n",
       "\\item 2\n",
       "\\item 3\n",
       "\\end{enumerate*}\n",
       "\n",
       "\\end{description}\n"
      ],
      "text/markdown": [
       "$x\n",
       ":   1. 0.643220661989031\n",
       "2. 0.497417715360405\n",
       "3. 0.474339478971012\n",
       "4. 0.369235211143239\n",
       "5. 0.359615499053312\n",
       "6. 0.298923984732073\n",
       "7. 0.267888366922255\n",
       "8. 0.223207368232993\n",
       "9. 0.219565672500808\n",
       "10. 0.120183548172644\n",
       "11. 0.114680141614857\n",
       "12. 0.0819969221188271\n",
       "13. 0.0627831112347838\n",
       "14. 0.000189323406658695\n",
       "15. 0\n",
       "16. 0\n",
       "17. 0\n",
       "\n",
       "\n",
       "\n",
       "$ix\n",
       ":   1. 10\n",
       "2. 7\n",
       "3. 9\n",
       "4. 11\n",
       "5. 5\n",
       "6. 12\n",
       "7. 13\n",
       "8. 15\n",
       "9. 8\n",
       "10. 16\n",
       "11. 17\n",
       "12. 4\n",
       "13. 14\n",
       "14. 6\n",
       "15. 1\n",
       "16. 2\n",
       "17. 3\n",
       "\n",
       "\n",
       "\n",
       "\n",
       "\n"
      ],
      "text/plain": [
       "$x\n",
       " [1] 0.6432206620 0.4974177154 0.4743394790 0.3692352111 0.3596154991\n",
       " [6] 0.2989239847 0.2678883669 0.2232073682 0.2195656725 0.1201835482\n",
       "[11] 0.1146801416 0.0819969221 0.0627831112 0.0001893234 0.0000000000\n",
       "[16] 0.0000000000 0.0000000000\n",
       "\n",
       "$ix\n",
       " [1] 10  7  9 11  5 12 13 15  8 16 17  4 14  6  1  2  3\n"
      ]
     },
     "metadata": {},
     "output_type": "display_data"
    }
   ],
   "source": [
    "sort(r, decreasing = T, index.return = T)"
   ]
  },
  {
   "cell_type": "code",
   "execution_count": 27,
   "metadata": {},
   "outputs": [
    {
     "data": {
      "text/html": [
       "'ABDOMEN'"
      ],
      "text/latex": [
       "'ABDOMEN'"
      ],
      "text/markdown": [
       "'ABDOMEN'"
      ],
      "text/plain": [
       "[1] \"ABDOMEN\""
      ]
     },
     "metadata": {},
     "output_type": "display_data"
    }
   ],
   "source": [
    "colnames(data)[10]"
   ]
  },
  {
   "cell_type": "code",
   "execution_count": 28,
   "metadata": {},
   "outputs": [
    {
     "data": {
      "text/html": [
       "'ADIPOSITY'"
      ],
      "text/latex": [
       "'ADIPOSITY'"
      ],
      "text/markdown": [
       "'ADIPOSITY'"
      ],
      "text/plain": [
       "[1] \"ADIPOSITY\""
      ]
     },
     "metadata": {},
     "output_type": "display_data"
    },
    {
     "data": {
      "text/html": [
       "'THIGH'"
      ],
      "text/latex": [
       "'THIGH'"
      ],
      "text/markdown": [
       "'THIGH'"
      ],
      "text/plain": [
       "[1] \"THIGH\""
      ]
     },
     "metadata": {},
     "output_type": "display_data"
    }
   ],
   "source": [
    "colnames(data)[7]\n",
    "colnames(data)[12]"
   ]
  },
  {
   "cell_type": "code",
   "execution_count": 29,
   "metadata": {},
   "outputs": [
    {
     "data": {
      "text/html": [
       "<table>\n",
       "<thead><tr><th></th><th scope=col>IDNO</th><th scope=col>BODYFAT</th><th scope=col>DENSITY</th><th scope=col>AGE</th><th scope=col>WEIGHT</th><th scope=col>HEIGHT</th><th scope=col>ADIPOSITY</th><th scope=col>NECK</th><th scope=col>CHEST</th><th scope=col>ABDOMEN</th><th scope=col>HIP</th><th scope=col>THIGH</th><th scope=col>KNEE</th><th scope=col>ANKLE</th><th scope=col>BICEPS</th><th scope=col>FOREARM</th><th scope=col>WRIST</th></tr></thead>\n",
       "<tbody>\n",
       "\t<tr><th scope=row>IDNO</th><td> 1.000000000</td><td> 0.10608453 </td><td>-0.10756011 </td><td> 0.349873241</td><td> 0.03433242 </td><td> 0.00957484 </td><td> 0.03517600 </td><td> 0.07011683 </td><td> 0.1194091  </td><td> 0.1171374  </td><td>-0.02794979 </td><td>-0.08201175 </td><td> 0.062350249</td><td>-0.07230339 </td><td>-0.01665618 </td><td> 0.006123018</td><td> 0.09561916 </td></tr>\n",
       "\t<tr><th scope=row>BODYFAT</th><td> 0.106084528</td><td> 1.00000000 </td><td>-0.99970815 </td><td> 0.286351047</td><td> 0.59967950 </td><td>-0.01375948 </td><td> 0.70527847 </td><td> 0.46857835 </td><td> 0.6887231  </td><td> 0.8020104  </td><td> 0.60764728 </td><td> 0.54673941 </td><td> 0.517579334</td><td> 0.25056558 </td><td> 0.47244827 </td><td> 0.346674989</td><td> 0.33864457 </td></tr>\n",
       "\t<tr><th scope=row>DENSITY</th><td>-0.107560109</td><td>-0.99970815 </td><td> 1.00000000 </td><td>-0.286818704</td><td>-0.59826348 </td><td> 0.01208006 </td><td>-0.70267568 </td><td>-0.46678184 </td><td>-0.6872557  </td><td>-0.8006561  </td><td>-0.60586948 </td><td>-0.54689159 </td><td>-0.518638611</td><td>-0.24974101 </td><td>-0.47294560 </td><td>-0.345794896</td><td>-0.33761952 </td></tr>\n",
       "\t<tr><th scope=row>AGE</th><td> 0.349873241</td><td> 0.28635105 </td><td>-0.28681870 </td><td> 1.000000000</td><td>-0.02564763 </td><td>-0.26074656 </td><td> 0.11080934 </td><td> 0.10463074 </td><td> 0.1712063  </td><td> 0.2275652  </td><td>-0.06466364 </td><td>-0.21558791 </td><td> 0.009585213</td><td>-0.10839649 </td><td>-0.05191014 </td><td>-0.095310865</td><td> 0.20473352 </td></tr>\n",
       "\t<tr><th scope=row>WEIGHT</th><td> 0.034332420</td><td> 0.59967950 </td><td>-0.59826348 </td><td>-0.025647627</td><td> 1.00000000 </td><td> 0.49151756 </td><td> 0.89267122 </td><td> 0.82243140 </td><td> 0.8902098  </td><td> 0.8865399  </td><td> 0.93895513 </td><td> 0.86581541 </td><td> 0.855751676</td><td> 0.60885057 </td><td> 0.79582529 </td><td> 0.616685560</td><td> 0.72383896 </td></tr>\n",
       "\t<tr><th scope=row>HEIGHT</th><td> 0.009574840</td><td>-0.01375948 </td><td> 0.01208006 </td><td>-0.260746556</td><td> 0.49151756 </td><td> 1.00000000 </td><td> 0.05616313 </td><td> 0.31942263 </td><td> 0.2282555  </td><td> 0.2019015  </td><td> 0.38170015 </td><td> 0.33649007 </td><td> 0.483898347</td><td> 0.40075763 </td><td> 0.31719632 </td><td> 0.310038976</td><td> 0.38007740 </td></tr>\n",
       "\t<tr><th scope=row>ADIPOSITY</th><td> 0.035176001</td><td> 0.70527847 </td><td>-0.70267568 </td><td> 0.110809342</td><td> 0.89267122 </td><td> 0.05616313 </td><td> 1.00000000 </td><td> 0.77498863 </td><td> 0.9118265  </td><td> 0.9194870  </td><td> 0.88243480 </td><td> 0.81752094 </td><td> 0.735957225</td><td> 0.49675320 </td><td> 0.74721053 </td><td> 0.555320002</td><td> 0.63615477 </td></tr>\n",
       "\t<tr><th scope=row>NECK</th><td> 0.070116826</td><td> 0.46857835 </td><td>-0.46678184 </td><td> 0.104630744</td><td> 0.82243140 </td><td> 0.31942263 </td><td> 0.77498863 </td><td> 1.00000000 </td><td> 0.7753139  </td><td> 0.7445857  </td><td> 0.72279035 </td><td> 0.68426672 </td><td> 0.668145447</td><td> 0.46826658 </td><td> 0.72283189 </td><td> 0.611184664</td><td> 0.74180607 </td></tr>\n",
       "\t<tr><th scope=row>CHEST</th><td> 0.119409071</td><td> 0.68872308 </td><td>-0.68725569 </td><td> 0.171206310</td><td> 0.89020980 </td><td> 0.22825552 </td><td> 0.91182655 </td><td> 0.77531393 </td><td> 1.0000000  </td><td> 0.9122554  </td><td> 0.82038100 </td><td> 0.72194474 </td><td> 0.723764750</td><td> 0.47324092 </td><td> 0.72466187 </td><td> 0.566888903</td><td> 0.65589790 </td></tr>\n",
       "\t<tr><th scope=row>ABDOMEN</th><td> 0.117137396</td><td> 0.80201039 </td><td>-0.80065607 </td><td> 0.227565195</td><td> 0.88653991 </td><td> 0.20190152 </td><td> 0.91948703 </td><td> 0.74458569 </td><td> 0.9122554  </td><td> 1.0000000  </td><td> 0.86868266 </td><td> 0.76221536 </td><td> 0.749924076</td><td> 0.44359750 </td><td> 0.67633984 </td><td> 0.490170063</td><td> 0.62112743 </td></tr>\n",
       "\t<tr><th scope=row>HIP</th><td>-0.027949788</td><td> 0.60764728 </td><td>-0.60586948 </td><td>-0.064663643</td><td> 0.93895513 </td><td> 0.38170015 </td><td> 0.88243480 </td><td> 0.72279035 </td><td> 0.8203810  </td><td> 0.8686827  </td><td> 1.00000000 </td><td> 0.89567323 </td><td> 0.829234140</td><td> 0.55139654 </td><td> 0.73274136 </td><td> 0.530350245</td><td> 0.62305518 </td></tr>\n",
       "\t<tr><th scope=row>THIGH</th><td>-0.082011747</td><td> 0.54673941 </td><td>-0.54689159 </td><td>-0.215587911</td><td> 0.86581541 </td><td> 0.33649007 </td><td> 0.81752094 </td><td> 0.68426672 </td><td> 0.7219447  </td><td> 0.7622154  </td><td> 0.89567323 </td><td> 1.00000000 </td><td> 0.797642165</td><td> 0.52855723 </td><td> 0.75247615 </td><td> 0.550437492</td><td> 0.55027321 </td></tr>\n",
       "\t<tr><th scope=row>KNEE</th><td> 0.062350249</td><td> 0.51757933 </td><td>-0.51863861 </td><td> 0.009585213</td><td> 0.85575168 </td><td> 0.48389835 </td><td> 0.73595722 </td><td> 0.66814545 </td><td> 0.7237648  </td><td> 0.7499241  </td><td> 0.82923414 </td><td> 0.79764216 </td><td> 1.000000000</td><td> 0.60826353 </td><td> 0.67608211 </td><td> 0.541125323</td><td> 0.65379268 </td></tr>\n",
       "\t<tr><th scope=row>ANKLE</th><td>-0.072303387</td><td> 0.25056558 </td><td>-0.24974101 </td><td>-0.108396492</td><td> 0.60885057 </td><td> 0.40075763 </td><td> 0.49675320 </td><td> 0.46826658 </td><td> 0.4732409  </td><td> 0.4435975  </td><td> 0.55139654 </td><td> 0.52855723 </td><td> 0.608263531</td><td> 1.00000000 </td><td> 0.47530562 </td><td> 0.406238618</td><td> 0.56650719 </td></tr>\n",
       "\t<tr><th scope=row>BICEPS</th><td>-0.016656177</td><td> 0.47244827 </td><td>-0.47294560 </td><td>-0.051910135</td><td> 0.79582529 </td><td> 0.31719632 </td><td> 0.74721053 </td><td> 0.72283189 </td><td> 0.7246619  </td><td> 0.6763398  </td><td> 0.73274136 </td><td> 0.75247615 </td><td> 0.676082107</td><td> 0.47530562 </td><td> 1.00000000 </td><td> 0.670242506</td><td> 0.63133435 </td></tr>\n",
       "\t<tr><th scope=row>FOREARM</th><td> 0.006123018</td><td> 0.34667499 </td><td>-0.34579490 </td><td>-0.095310865</td><td> 0.61668556 </td><td> 0.31003898 </td><td> 0.55532000 </td><td> 0.61118466 </td><td> 0.5668889  </td><td> 0.4901701  </td><td> 0.53035024 </td><td> 0.55043749 </td><td> 0.541125323</td><td> 0.40623862 </td><td> 0.67024251 </td><td> 1.000000000</td><td> 0.57447029 </td></tr>\n",
       "\t<tr><th scope=row>WRIST</th><td> 0.095619158</td><td> 0.33864457 </td><td>-0.33761952 </td><td> 0.204733517</td><td> 0.72383896 </td><td> 0.38007740 </td><td> 0.63615477 </td><td> 0.74180607 </td><td> 0.6558979  </td><td> 0.6211274  </td><td> 0.62305518 </td><td> 0.55027321 </td><td> 0.653792683</td><td> 0.56650719 </td><td> 0.63133435 </td><td> 0.574470290</td><td> 1.00000000 </td></tr>\n",
       "</tbody>\n",
       "</table>\n"
      ],
      "text/latex": [
       "\\begin{tabular}{r|lllllllllllllllll}\n",
       "  & IDNO & BODYFAT & DENSITY & AGE & WEIGHT & HEIGHT & ADIPOSITY & NECK & CHEST & ABDOMEN & HIP & THIGH & KNEE & ANKLE & BICEPS & FOREARM & WRIST\\\\\n",
       "\\hline\n",
       "\tIDNO &  1.000000000 &  0.10608453  & -0.10756011  &  0.349873241 &  0.03433242  &  0.00957484  &  0.03517600  &  0.07011683  &  0.1194091   &  0.1171374   & -0.02794979  & -0.08201175  &  0.062350249 & -0.07230339  & -0.01665618  &  0.006123018 &  0.09561916 \\\\\n",
       "\tBODYFAT &  0.106084528 &  1.00000000  & -0.99970815  &  0.286351047 &  0.59967950  & -0.01375948  &  0.70527847  &  0.46857835  &  0.6887231   &  0.8020104   &  0.60764728  &  0.54673941  &  0.517579334 &  0.25056558  &  0.47244827  &  0.346674989 &  0.33864457 \\\\\n",
       "\tDENSITY & -0.107560109 & -0.99970815  &  1.00000000  & -0.286818704 & -0.59826348  &  0.01208006  & -0.70267568  & -0.46678184  & -0.6872557   & -0.8006561   & -0.60586948  & -0.54689159  & -0.518638611 & -0.24974101  & -0.47294560  & -0.345794896 & -0.33761952 \\\\\n",
       "\tAGE &  0.349873241 &  0.28635105  & -0.28681870  &  1.000000000 & -0.02564763  & -0.26074656  &  0.11080934  &  0.10463074  &  0.1712063   &  0.2275652   & -0.06466364  & -0.21558791  &  0.009585213 & -0.10839649  & -0.05191014  & -0.095310865 &  0.20473352 \\\\\n",
       "\tWEIGHT &  0.034332420 &  0.59967950  & -0.59826348  & -0.025647627 &  1.00000000  &  0.49151756  &  0.89267122  &  0.82243140  &  0.8902098   &  0.8865399   &  0.93895513  &  0.86581541  &  0.855751676 &  0.60885057  &  0.79582529  &  0.616685560 &  0.72383896 \\\\\n",
       "\tHEIGHT &  0.009574840 & -0.01375948  &  0.01208006  & -0.260746556 &  0.49151756  &  1.00000000  &  0.05616313  &  0.31942263  &  0.2282555   &  0.2019015   &  0.38170015  &  0.33649007  &  0.483898347 &  0.40075763  &  0.31719632  &  0.310038976 &  0.38007740 \\\\\n",
       "\tADIPOSITY &  0.035176001 &  0.70527847  & -0.70267568  &  0.110809342 &  0.89267122  &  0.05616313  &  1.00000000  &  0.77498863  &  0.9118265   &  0.9194870   &  0.88243480  &  0.81752094  &  0.735957225 &  0.49675320  &  0.74721053  &  0.555320002 &  0.63615477 \\\\\n",
       "\tNECK &  0.070116826 &  0.46857835  & -0.46678184  &  0.104630744 &  0.82243140  &  0.31942263  &  0.77498863  &  1.00000000  &  0.7753139   &  0.7445857   &  0.72279035  &  0.68426672  &  0.668145447 &  0.46826658  &  0.72283189  &  0.611184664 &  0.74180607 \\\\\n",
       "\tCHEST &  0.119409071 &  0.68872308  & -0.68725569  &  0.171206310 &  0.89020980  &  0.22825552  &  0.91182655  &  0.77531393  &  1.0000000   &  0.9122554   &  0.82038100  &  0.72194474  &  0.723764750 &  0.47324092  &  0.72466187  &  0.566888903 &  0.65589790 \\\\\n",
       "\tABDOMEN &  0.117137396 &  0.80201039  & -0.80065607  &  0.227565195 &  0.88653991  &  0.20190152  &  0.91948703  &  0.74458569  &  0.9122554   &  1.0000000   &  0.86868266  &  0.76221536  &  0.749924076 &  0.44359750  &  0.67633984  &  0.490170063 &  0.62112743 \\\\\n",
       "\tHIP & -0.027949788 &  0.60764728  & -0.60586948  & -0.064663643 &  0.93895513  &  0.38170015  &  0.88243480  &  0.72279035  &  0.8203810   &  0.8686827   &  1.00000000  &  0.89567323  &  0.829234140 &  0.55139654  &  0.73274136  &  0.530350245 &  0.62305518 \\\\\n",
       "\tTHIGH & -0.082011747 &  0.54673941  & -0.54689159  & -0.215587911 &  0.86581541  &  0.33649007  &  0.81752094  &  0.68426672  &  0.7219447   &  0.7622154   &  0.89567323  &  1.00000000  &  0.797642165 &  0.52855723  &  0.75247615  &  0.550437492 &  0.55027321 \\\\\n",
       "\tKNEE &  0.062350249 &  0.51757933  & -0.51863861  &  0.009585213 &  0.85575168  &  0.48389835  &  0.73595722  &  0.66814545  &  0.7237648   &  0.7499241   &  0.82923414  &  0.79764216  &  1.000000000 &  0.60826353  &  0.67608211  &  0.541125323 &  0.65379268 \\\\\n",
       "\tANKLE & -0.072303387 &  0.25056558  & -0.24974101  & -0.108396492 &  0.60885057  &  0.40075763  &  0.49675320  &  0.46826658  &  0.4732409   &  0.4435975   &  0.55139654  &  0.52855723  &  0.608263531 &  1.00000000  &  0.47530562  &  0.406238618 &  0.56650719 \\\\\n",
       "\tBICEPS & -0.016656177 &  0.47244827  & -0.47294560  & -0.051910135 &  0.79582529  &  0.31719632  &  0.74721053  &  0.72283189  &  0.7246619   &  0.6763398   &  0.73274136  &  0.75247615  &  0.676082107 &  0.47530562  &  1.00000000  &  0.670242506 &  0.63133435 \\\\\n",
       "\tFOREARM &  0.006123018 &  0.34667499  & -0.34579490  & -0.095310865 &  0.61668556  &  0.31003898  &  0.55532000  &  0.61118466  &  0.5668889   &  0.4901701   &  0.53035024  &  0.55043749  &  0.541125323 &  0.40623862  &  0.67024251  &  1.000000000 &  0.57447029 \\\\\n",
       "\tWRIST &  0.095619158 &  0.33864457  & -0.33761952  &  0.204733517 &  0.72383896  &  0.38007740  &  0.63615477  &  0.74180607  &  0.6558979   &  0.6211274   &  0.62305518  &  0.55027321  &  0.653792683 &  0.56650719  &  0.63133435  &  0.574470290 &  1.00000000 \\\\\n",
       "\\end{tabular}\n"
      ],
      "text/markdown": [
       "\n",
       "| <!--/--> | IDNO | BODYFAT | DENSITY | AGE | WEIGHT | HEIGHT | ADIPOSITY | NECK | CHEST | ABDOMEN | HIP | THIGH | KNEE | ANKLE | BICEPS | FOREARM | WRIST |\n",
       "|---|---|---|---|---|---|---|---|---|---|---|---|---|---|---|---|---|---|\n",
       "| IDNO |  1.000000000 |  0.10608453  | -0.10756011  |  0.349873241 |  0.03433242  |  0.00957484  |  0.03517600  |  0.07011683  |  0.1194091   |  0.1171374   | -0.02794979  | -0.08201175  |  0.062350249 | -0.07230339  | -0.01665618  |  0.006123018 |  0.09561916  |\n",
       "| BODYFAT |  0.106084528 |  1.00000000  | -0.99970815  |  0.286351047 |  0.59967950  | -0.01375948  |  0.70527847  |  0.46857835  |  0.6887231   |  0.8020104   |  0.60764728  |  0.54673941  |  0.517579334 |  0.25056558  |  0.47244827  |  0.346674989 |  0.33864457  |\n",
       "| DENSITY | -0.107560109 | -0.99970815  |  1.00000000  | -0.286818704 | -0.59826348  |  0.01208006  | -0.70267568  | -0.46678184  | -0.6872557   | -0.8006561   | -0.60586948  | -0.54689159  | -0.518638611 | -0.24974101  | -0.47294560  | -0.345794896 | -0.33761952  |\n",
       "| AGE |  0.349873241 |  0.28635105  | -0.28681870  |  1.000000000 | -0.02564763  | -0.26074656  |  0.11080934  |  0.10463074  |  0.1712063   |  0.2275652   | -0.06466364  | -0.21558791  |  0.009585213 | -0.10839649  | -0.05191014  | -0.095310865 |  0.20473352  |\n",
       "| WEIGHT |  0.034332420 |  0.59967950  | -0.59826348  | -0.025647627 |  1.00000000  |  0.49151756  |  0.89267122  |  0.82243140  |  0.8902098   |  0.8865399   |  0.93895513  |  0.86581541  |  0.855751676 |  0.60885057  |  0.79582529  |  0.616685560 |  0.72383896  |\n",
       "| HEIGHT |  0.009574840 | -0.01375948  |  0.01208006  | -0.260746556 |  0.49151756  |  1.00000000  |  0.05616313  |  0.31942263  |  0.2282555   |  0.2019015   |  0.38170015  |  0.33649007  |  0.483898347 |  0.40075763  |  0.31719632  |  0.310038976 |  0.38007740  |\n",
       "| ADIPOSITY |  0.035176001 |  0.70527847  | -0.70267568  |  0.110809342 |  0.89267122  |  0.05616313  |  1.00000000  |  0.77498863  |  0.9118265   |  0.9194870   |  0.88243480  |  0.81752094  |  0.735957225 |  0.49675320  |  0.74721053  |  0.555320002 |  0.63615477  |\n",
       "| NECK |  0.070116826 |  0.46857835  | -0.46678184  |  0.104630744 |  0.82243140  |  0.31942263  |  0.77498863  |  1.00000000  |  0.7753139   |  0.7445857   |  0.72279035  |  0.68426672  |  0.668145447 |  0.46826658  |  0.72283189  |  0.611184664 |  0.74180607  |\n",
       "| CHEST |  0.119409071 |  0.68872308  | -0.68725569  |  0.171206310 |  0.89020980  |  0.22825552  |  0.91182655  |  0.77531393  |  1.0000000   |  0.9122554   |  0.82038100  |  0.72194474  |  0.723764750 |  0.47324092  |  0.72466187  |  0.566888903 |  0.65589790  |\n",
       "| ABDOMEN |  0.117137396 |  0.80201039  | -0.80065607  |  0.227565195 |  0.88653991  |  0.20190152  |  0.91948703  |  0.74458569  |  0.9122554   |  1.0000000   |  0.86868266  |  0.76221536  |  0.749924076 |  0.44359750  |  0.67633984  |  0.490170063 |  0.62112743  |\n",
       "| HIP | -0.027949788 |  0.60764728  | -0.60586948  | -0.064663643 |  0.93895513  |  0.38170015  |  0.88243480  |  0.72279035  |  0.8203810   |  0.8686827   |  1.00000000  |  0.89567323  |  0.829234140 |  0.55139654  |  0.73274136  |  0.530350245 |  0.62305518  |\n",
       "| THIGH | -0.082011747 |  0.54673941  | -0.54689159  | -0.215587911 |  0.86581541  |  0.33649007  |  0.81752094  |  0.68426672  |  0.7219447   |  0.7622154   |  0.89567323  |  1.00000000  |  0.797642165 |  0.52855723  |  0.75247615  |  0.550437492 |  0.55027321  |\n",
       "| KNEE |  0.062350249 |  0.51757933  | -0.51863861  |  0.009585213 |  0.85575168  |  0.48389835  |  0.73595722  |  0.66814545  |  0.7237648   |  0.7499241   |  0.82923414  |  0.79764216  |  1.000000000 |  0.60826353  |  0.67608211  |  0.541125323 |  0.65379268  |\n",
       "| ANKLE | -0.072303387 |  0.25056558  | -0.24974101  | -0.108396492 |  0.60885057  |  0.40075763  |  0.49675320  |  0.46826658  |  0.4732409   |  0.4435975   |  0.55139654  |  0.52855723  |  0.608263531 |  1.00000000  |  0.47530562  |  0.406238618 |  0.56650719  |\n",
       "| BICEPS | -0.016656177 |  0.47244827  | -0.47294560  | -0.051910135 |  0.79582529  |  0.31719632  |  0.74721053  |  0.72283189  |  0.7246619   |  0.6763398   |  0.73274136  |  0.75247615  |  0.676082107 |  0.47530562  |  1.00000000  |  0.670242506 |  0.63133435  |\n",
       "| FOREARM |  0.006123018 |  0.34667499  | -0.34579490  | -0.095310865 |  0.61668556  |  0.31003898  |  0.55532000  |  0.61118466  |  0.5668889   |  0.4901701   |  0.53035024  |  0.55043749  |  0.541125323 |  0.40623862  |  0.67024251  |  1.000000000 |  0.57447029  |\n",
       "| WRIST |  0.095619158 |  0.33864457  | -0.33761952  |  0.204733517 |  0.72383896  |  0.38007740  |  0.63615477  |  0.74180607  |  0.6558979   |  0.6211274   |  0.62305518  |  0.55027321  |  0.653792683 |  0.56650719  |  0.63133435  |  0.574470290 |  1.00000000  |\n",
       "\n"
      ],
      "text/plain": [
       "          IDNO         BODYFAT     DENSITY     AGE          WEIGHT     \n",
       "IDNO       1.000000000  0.10608453 -0.10756011  0.349873241  0.03433242\n",
       "BODYFAT    0.106084528  1.00000000 -0.99970815  0.286351047  0.59967950\n",
       "DENSITY   -0.107560109 -0.99970815  1.00000000 -0.286818704 -0.59826348\n",
       "AGE        0.349873241  0.28635105 -0.28681870  1.000000000 -0.02564763\n",
       "WEIGHT     0.034332420  0.59967950 -0.59826348 -0.025647627  1.00000000\n",
       "HEIGHT     0.009574840 -0.01375948  0.01208006 -0.260746556  0.49151756\n",
       "ADIPOSITY  0.035176001  0.70527847 -0.70267568  0.110809342  0.89267122\n",
       "NECK       0.070116826  0.46857835 -0.46678184  0.104630744  0.82243140\n",
       "CHEST      0.119409071  0.68872308 -0.68725569  0.171206310  0.89020980\n",
       "ABDOMEN    0.117137396  0.80201039 -0.80065607  0.227565195  0.88653991\n",
       "HIP       -0.027949788  0.60764728 -0.60586948 -0.064663643  0.93895513\n",
       "THIGH     -0.082011747  0.54673941 -0.54689159 -0.215587911  0.86581541\n",
       "KNEE       0.062350249  0.51757933 -0.51863861  0.009585213  0.85575168\n",
       "ANKLE     -0.072303387  0.25056558 -0.24974101 -0.108396492  0.60885057\n",
       "BICEPS    -0.016656177  0.47244827 -0.47294560 -0.051910135  0.79582529\n",
       "FOREARM    0.006123018  0.34667499 -0.34579490 -0.095310865  0.61668556\n",
       "WRIST      0.095619158  0.33864457 -0.33761952  0.204733517  0.72383896\n",
       "          HEIGHT      ADIPOSITY   NECK        CHEST      ABDOMEN    HIP        \n",
       "IDNO       0.00957484  0.03517600  0.07011683  0.1194091  0.1171374 -0.02794979\n",
       "BODYFAT   -0.01375948  0.70527847  0.46857835  0.6887231  0.8020104  0.60764728\n",
       "DENSITY    0.01208006 -0.70267568 -0.46678184 -0.6872557 -0.8006561 -0.60586948\n",
       "AGE       -0.26074656  0.11080934  0.10463074  0.1712063  0.2275652 -0.06466364\n",
       "WEIGHT     0.49151756  0.89267122  0.82243140  0.8902098  0.8865399  0.93895513\n",
       "HEIGHT     1.00000000  0.05616313  0.31942263  0.2282555  0.2019015  0.38170015\n",
       "ADIPOSITY  0.05616313  1.00000000  0.77498863  0.9118265  0.9194870  0.88243480\n",
       "NECK       0.31942263  0.77498863  1.00000000  0.7753139  0.7445857  0.72279035\n",
       "CHEST      0.22825552  0.91182655  0.77531393  1.0000000  0.9122554  0.82038100\n",
       "ABDOMEN    0.20190152  0.91948703  0.74458569  0.9122554  1.0000000  0.86868266\n",
       "HIP        0.38170015  0.88243480  0.72279035  0.8203810  0.8686827  1.00000000\n",
       "THIGH      0.33649007  0.81752094  0.68426672  0.7219447  0.7622154  0.89567323\n",
       "KNEE       0.48389835  0.73595722  0.66814545  0.7237648  0.7499241  0.82923414\n",
       "ANKLE      0.40075763  0.49675320  0.46826658  0.4732409  0.4435975  0.55139654\n",
       "BICEPS     0.31719632  0.74721053  0.72283189  0.7246619  0.6763398  0.73274136\n",
       "FOREARM    0.31003898  0.55532000  0.61118466  0.5668889  0.4901701  0.53035024\n",
       "WRIST      0.38007740  0.63615477  0.74180607  0.6558979  0.6211274  0.62305518\n",
       "          THIGH       KNEE         ANKLE       BICEPS      FOREARM     \n",
       "IDNO      -0.08201175  0.062350249 -0.07230339 -0.01665618  0.006123018\n",
       "BODYFAT    0.54673941  0.517579334  0.25056558  0.47244827  0.346674989\n",
       "DENSITY   -0.54689159 -0.518638611 -0.24974101 -0.47294560 -0.345794896\n",
       "AGE       -0.21558791  0.009585213 -0.10839649 -0.05191014 -0.095310865\n",
       "WEIGHT     0.86581541  0.855751676  0.60885057  0.79582529  0.616685560\n",
       "HEIGHT     0.33649007  0.483898347  0.40075763  0.31719632  0.310038976\n",
       "ADIPOSITY  0.81752094  0.735957225  0.49675320  0.74721053  0.555320002\n",
       "NECK       0.68426672  0.668145447  0.46826658  0.72283189  0.611184664\n",
       "CHEST      0.72194474  0.723764750  0.47324092  0.72466187  0.566888903\n",
       "ABDOMEN    0.76221536  0.749924076  0.44359750  0.67633984  0.490170063\n",
       "HIP        0.89567323  0.829234140  0.55139654  0.73274136  0.530350245\n",
       "THIGH      1.00000000  0.797642165  0.52855723  0.75247615  0.550437492\n",
       "KNEE       0.79764216  1.000000000  0.60826353  0.67608211  0.541125323\n",
       "ANKLE      0.52855723  0.608263531  1.00000000  0.47530562  0.406238618\n",
       "BICEPS     0.75247615  0.676082107  0.47530562  1.00000000  0.670242506\n",
       "FOREARM    0.55043749  0.541125323  0.40623862  0.67024251  1.000000000\n",
       "WRIST      0.55027321  0.653792683  0.56650719  0.63133435  0.574470290\n",
       "          WRIST      \n",
       "IDNO       0.09561916\n",
       "BODYFAT    0.33864457\n",
       "DENSITY   -0.33761952\n",
       "AGE        0.20473352\n",
       "WEIGHT     0.72383896\n",
       "HEIGHT     0.38007740\n",
       "ADIPOSITY  0.63615477\n",
       "NECK       0.74180607\n",
       "CHEST      0.65589790\n",
       "ABDOMEN    0.62112743\n",
       "HIP        0.62305518\n",
       "THIGH      0.55027321\n",
       "KNEE       0.65379268\n",
       "ANKLE      0.56650719\n",
       "BICEPS     0.63133435\n",
       "FOREARM    0.57447029\n",
       "WRIST      1.00000000"
      ]
     },
     "metadata": {},
     "output_type": "display_data"
    }
   ],
   "source": [
    "cor(data)"
   ]
  },
  {
   "cell_type": "code",
   "execution_count": 30,
   "metadata": {},
   "outputs": [
    {
     "data": {
      "text/plain": [
       "\n",
       "Call:\n",
       "lm(formula = BODYFAT ~ ABDOMEN, data = data)\n",
       "\n",
       "Residuals:\n",
       "     Min       1Q   Median       3Q      Max \n",
       "-16.6910  -3.4219   0.0073   2.9149  11.9641 \n",
       "\n",
       "Coefficients:\n",
       "             Estimate Std. Error t value Pr(>|t|)    \n",
       "(Intercept) -33.54637    2.52324  -13.29   <2e-16 ***\n",
       "ABDOMEN       0.56744    0.02705   20.97   <2e-16 ***\n",
       "---\n",
       "Signif. codes:  0 '***' 0.001 '**' 0.01 '*' 0.05 '.' 0.1 ' ' 1\n",
       "\n",
       "Residual standard error: 4.457 on 244 degrees of freedom\n",
       "Multiple R-squared:  0.6432,\tAdjusted R-squared:  0.6418 \n",
       "F-statistic: 439.9 on 1 and 244 DF,  p-value: < 2.2e-16\n"
      ]
     },
     "metadata": {},
     "output_type": "display_data"
    }
   ],
   "source": [
    "method1 = lm(BODYFAT~ABDOMEN, data = data)\n",
    "summary(method1)"
   ]
  },
  {
   "cell_type": "code",
   "execution_count": 31,
   "metadata": {},
   "outputs": [
    {
     "name": "stdout",
     "output_type": "stream",
     "text": [
      " [1] 0.0000000 0.0000000 0.0000000 0.6545926 0.7011305 0.6753981 0.6499129\n",
      " [8] 0.6803278 0.6541970 0.6432207 0.6755327 0.6531691 0.6592937 0.6570001\n",
      "[15] 0.6522475 0.6460602 0.6846439\n"
     ]
    }
   ],
   "source": [
    "## add a variable to mathod 1 \n",
    "r = rep(0,17)\n",
    "for (i in 4:17){\n",
    "    lm_fit = lm(BODYFAT~ABDOMEN+data[,i], data = data)\n",
    "    r[i] = summary(lm_fit)$r.squared\n",
    "}\n",
    "print(r)"
   ]
  },
  {
   "cell_type": "code",
   "execution_count": 32,
   "metadata": {},
   "outputs": [
    {
     "data": {
      "text/html": [
       "<dl>\n",
       "\t<dt>$x</dt>\n",
       "\t\t<dd><ol class=list-inline>\n",
       "\t<li>0.701130469085971</li>\n",
       "\t<li>0.684643914550825</li>\n",
       "\t<li>0.680327789505268</li>\n",
       "\t<li>0.67553265916462</li>\n",
       "\t<li>0.675398133737475</li>\n",
       "\t<li>0.65929366333574</li>\n",
       "\t<li>0.657000088736047</li>\n",
       "\t<li>0.654592604202862</li>\n",
       "\t<li>0.65419700175336</li>\n",
       "\t<li>0.653169093044019</li>\n",
       "\t<li>0.652247541528284</li>\n",
       "\t<li>0.649912916366109</li>\n",
       "\t<li>0.646060180343352</li>\n",
       "\t<li>0.643220661989031</li>\n",
       "\t<li>0</li>\n",
       "\t<li>0</li>\n",
       "\t<li>0</li>\n",
       "</ol>\n",
       "</dd>\n",
       "\t<dt>$ix</dt>\n",
       "\t\t<dd><ol class=list-inline>\n",
       "\t<li>5</li>\n",
       "\t<li>17</li>\n",
       "\t<li>8</li>\n",
       "\t<li>11</li>\n",
       "\t<li>6</li>\n",
       "\t<li>13</li>\n",
       "\t<li>14</li>\n",
       "\t<li>4</li>\n",
       "\t<li>9</li>\n",
       "\t<li>12</li>\n",
       "\t<li>15</li>\n",
       "\t<li>7</li>\n",
       "\t<li>16</li>\n",
       "\t<li>10</li>\n",
       "\t<li>1</li>\n",
       "\t<li>2</li>\n",
       "\t<li>3</li>\n",
       "</ol>\n",
       "</dd>\n",
       "</dl>\n"
      ],
      "text/latex": [
       "\\begin{description}\n",
       "\\item[\\$x] \\begin{enumerate*}\n",
       "\\item 0.701130469085971\n",
       "\\item 0.684643914550825\n",
       "\\item 0.680327789505268\n",
       "\\item 0.67553265916462\n",
       "\\item 0.675398133737475\n",
       "\\item 0.65929366333574\n",
       "\\item 0.657000088736047\n",
       "\\item 0.654592604202862\n",
       "\\item 0.65419700175336\n",
       "\\item 0.653169093044019\n",
       "\\item 0.652247541528284\n",
       "\\item 0.649912916366109\n",
       "\\item 0.646060180343352\n",
       "\\item 0.643220661989031\n",
       "\\item 0\n",
       "\\item 0\n",
       "\\item 0\n",
       "\\end{enumerate*}\n",
       "\n",
       "\\item[\\$ix] \\begin{enumerate*}\n",
       "\\item 5\n",
       "\\item 17\n",
       "\\item 8\n",
       "\\item 11\n",
       "\\item 6\n",
       "\\item 13\n",
       "\\item 14\n",
       "\\item 4\n",
       "\\item 9\n",
       "\\item 12\n",
       "\\item 15\n",
       "\\item 7\n",
       "\\item 16\n",
       "\\item 10\n",
       "\\item 1\n",
       "\\item 2\n",
       "\\item 3\n",
       "\\end{enumerate*}\n",
       "\n",
       "\\end{description}\n"
      ],
      "text/markdown": [
       "$x\n",
       ":   1. 0.701130469085971\n",
       "2. 0.684643914550825\n",
       "3. 0.680327789505268\n",
       "4. 0.67553265916462\n",
       "5. 0.675398133737475\n",
       "6. 0.65929366333574\n",
       "7. 0.657000088736047\n",
       "8. 0.654592604202862\n",
       "9. 0.65419700175336\n",
       "10. 0.653169093044019\n",
       "11. 0.652247541528284\n",
       "12. 0.649912916366109\n",
       "13. 0.646060180343352\n",
       "14. 0.643220661989031\n",
       "15. 0\n",
       "16. 0\n",
       "17. 0\n",
       "\n",
       "\n",
       "\n",
       "$ix\n",
       ":   1. 5\n",
       "2. 17\n",
       "3. 8\n",
       "4. 11\n",
       "5. 6\n",
       "6. 13\n",
       "7. 14\n",
       "8. 4\n",
       "9. 9\n",
       "10. 12\n",
       "11. 15\n",
       "12. 7\n",
       "13. 16\n",
       "14. 10\n",
       "15. 1\n",
       "16. 2\n",
       "17. 3\n",
       "\n",
       "\n",
       "\n",
       "\n",
       "\n"
      ],
      "text/plain": [
       "$x\n",
       " [1] 0.7011305 0.6846439 0.6803278 0.6755327 0.6753981 0.6592937 0.6570001\n",
       " [8] 0.6545926 0.6541970 0.6531691 0.6522475 0.6499129 0.6460602 0.6432207\n",
       "[15] 0.0000000 0.0000000 0.0000000\n",
       "\n",
       "$ix\n",
       " [1]  5 17  8 11  6 13 14  4  9 12 15  7 16 10  1  2  3\n"
      ]
     },
     "metadata": {},
     "output_type": "display_data"
    },
    {
     "data": {
      "text/html": [
       "'WEIGHT'"
      ],
      "text/latex": [
       "'WEIGHT'"
      ],
      "text/markdown": [
       "'WEIGHT'"
      ],
      "text/plain": [
       "[1] \"WEIGHT\""
      ]
     },
     "metadata": {},
     "output_type": "display_data"
    }
   ],
   "source": [
    "sort(r, decreasing = T, index.return = T)\n",
    "colnames(data[5])"
   ]
  },
  {
   "cell_type": "code",
   "execution_count": 33,
   "metadata": {},
   "outputs": [
    {
     "data": {
      "text/plain": [
       "\n",
       "Call:\n",
       "lm(formula = BODYFAT ~ ABDOMEN + WEIGHT, data = data)\n",
       "\n",
       "Residuals:\n",
       "    Min      1Q  Median      3Q     Max \n",
       "-10.142  -2.964   0.060   2.876   9.783 \n",
       "\n",
       "Coefficients:\n",
       "             Estimate Std. Error t value Pr(>|t|)    \n",
       "(Intercept) -39.76098    2.48506 -16.000  < 2e-16 ***\n",
       "ABDOMEN       0.89369    0.05363  16.664  < 2e-16 ***\n",
       "WEIGHT       -0.13397    0.01952  -6.862 5.61e-11 ***\n",
       "---\n",
       "Signif. codes:  0 '***' 0.001 '**' 0.01 '*' 0.05 '.' 0.1 ' ' 1\n",
       "\n",
       "Residual standard error: 4.087 on 243 degrees of freedom\n",
       "Multiple R-squared:  0.7011,\tAdjusted R-squared:  0.6987 \n",
       "F-statistic:   285 on 2 and 243 DF,  p-value: < 2.2e-16\n"
      ]
     },
     "metadata": {},
     "output_type": "display_data"
    }
   ],
   "source": [
    "method1_1 = lm(BODYFAT~ABDOMEN+WEIGHT, data = data)\n",
    "summary(method1_1)"
   ]
  },
  {
   "cell_type": "code",
   "execution_count": 34,
   "metadata": {},
   "outputs": [
    {
     "data": {
      "text/plain": [
       "\n",
       "Call:\n",
       "lm(formula = bodyfat ~ abdomen + wrist_inv)\n",
       "\n",
       "Residuals:\n",
       "     Min       1Q   Median       3Q      Max \n",
       "-17.1165  -3.0279  -0.0157   2.9340  10.6231 \n",
       "\n",
       "Coefficients:\n",
       "             Estimate Std. Error t value Pr(>|t|)    \n",
       "(Intercept) -80.26931    8.87951  -9.040  < 2e-16 ***\n",
       "abdomen       0.67473    0.03225  20.919  < 2e-16 ***\n",
       "wrist_inv   668.94152  122.45352   5.463 1.16e-07 ***\n",
       "---\n",
       "Signif. codes:  0 '***' 0.001 '**' 0.01 '*' 0.05 '.' 0.1 ' ' 1\n",
       "\n",
       "Residual standard error: 4.214 on 243 degrees of freedom\n",
       "Multiple R-squared:  0.6822,\tAdjusted R-squared:  0.6796 \n",
       "F-statistic: 260.9 on 2 and 243 DF,  p-value: < 2.2e-16\n"
      ]
     },
     "metadata": {},
     "output_type": "display_data"
    }
   ],
   "source": [
    "## method 2\n",
    "bodyfat = data$BODYFAT\n",
    "abdomen = data$ABDOMEN\n",
    "wrist = data$WRIST\n",
    "wrist_inv = 1/wrist\n",
    "\n",
    "summary(lm(bodyfat~abdomen + wrist_inv))"
   ]
  },
  {
   "cell_type": "code",
   "execution_count": 35,
   "metadata": {},
   "outputs": [
    {
     "name": "stdout",
     "output_type": "stream",
     "text": [
      " [1] 0.0000000 0.0000000 0.0000000 0.6548089 0.6658704 0.6750978 0.6432232\n",
      " [8] 0.6727148 0.6486217 0.6595610 0.6620735 0.6477234 0.6560993 0.6597279\n",
      "[15] 0.6476617 0.6452970 0.6822437\n"
     ]
    },
    {
     "data": {
      "text/html": [
       "<dl>\n",
       "\t<dt>$x</dt>\n",
       "\t\t<dd><ol class=list-inline>\n",
       "\t<li>0.682243745982621</li>\n",
       "\t<li>0.675097824908177</li>\n",
       "\t<li>0.672714757473358</li>\n",
       "\t<li>0.665870422989538</li>\n",
       "\t<li>0.662073486346269</li>\n",
       "\t<li>0.659727902581237</li>\n",
       "\t<li>0.659561035693445</li>\n",
       "\t<li>0.656099300160683</li>\n",
       "\t<li>0.654808858577984</li>\n",
       "\t<li>0.648621689864304</li>\n",
       "\t<li>0.647723356719343</li>\n",
       "\t<li>0.647661737472685</li>\n",
       "\t<li>0.64529704973256</li>\n",
       "\t<li>0.643223173915</li>\n",
       "\t<li>0</li>\n",
       "\t<li>0</li>\n",
       "\t<li>0</li>\n",
       "</ol>\n",
       "</dd>\n",
       "\t<dt>$ix</dt>\n",
       "\t\t<dd><ol class=list-inline>\n",
       "\t<li>17</li>\n",
       "\t<li>6</li>\n",
       "\t<li>8</li>\n",
       "\t<li>5</li>\n",
       "\t<li>11</li>\n",
       "\t<li>14</li>\n",
       "\t<li>10</li>\n",
       "\t<li>13</li>\n",
       "\t<li>4</li>\n",
       "\t<li>9</li>\n",
       "\t<li>12</li>\n",
       "\t<li>15</li>\n",
       "\t<li>16</li>\n",
       "\t<li>7</li>\n",
       "\t<li>1</li>\n",
       "\t<li>2</li>\n",
       "\t<li>3</li>\n",
       "</ol>\n",
       "</dd>\n",
       "</dl>\n"
      ],
      "text/latex": [
       "\\begin{description}\n",
       "\\item[\\$x] \\begin{enumerate*}\n",
       "\\item 0.682243745982621\n",
       "\\item 0.675097824908177\n",
       "\\item 0.672714757473358\n",
       "\\item 0.665870422989538\n",
       "\\item 0.662073486346269\n",
       "\\item 0.659727902581237\n",
       "\\item 0.659561035693445\n",
       "\\item 0.656099300160683\n",
       "\\item 0.654808858577984\n",
       "\\item 0.648621689864304\n",
       "\\item 0.647723356719343\n",
       "\\item 0.647661737472685\n",
       "\\item 0.64529704973256\n",
       "\\item 0.643223173915\n",
       "\\item 0\n",
       "\\item 0\n",
       "\\item 0\n",
       "\\end{enumerate*}\n",
       "\n",
       "\\item[\\$ix] \\begin{enumerate*}\n",
       "\\item 17\n",
       "\\item 6\n",
       "\\item 8\n",
       "\\item 5\n",
       "\\item 11\n",
       "\\item 14\n",
       "\\item 10\n",
       "\\item 13\n",
       "\\item 4\n",
       "\\item 9\n",
       "\\item 12\n",
       "\\item 15\n",
       "\\item 16\n",
       "\\item 7\n",
       "\\item 1\n",
       "\\item 2\n",
       "\\item 3\n",
       "\\end{enumerate*}\n",
       "\n",
       "\\end{description}\n"
      ],
      "text/markdown": [
       "$x\n",
       ":   1. 0.682243745982621\n",
       "2. 0.675097824908177\n",
       "3. 0.672714757473358\n",
       "4. 0.665870422989538\n",
       "5. 0.662073486346269\n",
       "6. 0.659727902581237\n",
       "7. 0.659561035693445\n",
       "8. 0.656099300160683\n",
       "9. 0.654808858577984\n",
       "10. 0.648621689864304\n",
       "11. 0.647723356719343\n",
       "12. 0.647661737472685\n",
       "13. 0.64529704973256\n",
       "14. 0.643223173915\n",
       "15. 0\n",
       "16. 0\n",
       "17. 0\n",
       "\n",
       "\n",
       "\n",
       "$ix\n",
       ":   1. 17\n",
       "2. 6\n",
       "3. 8\n",
       "4. 5\n",
       "5. 11\n",
       "6. 14\n",
       "7. 10\n",
       "8. 13\n",
       "9. 4\n",
       "10. 9\n",
       "11. 12\n",
       "12. 15\n",
       "13. 16\n",
       "14. 7\n",
       "15. 1\n",
       "16. 2\n",
       "17. 3\n",
       "\n",
       "\n",
       "\n",
       "\n",
       "\n"
      ],
      "text/plain": [
       "$x\n",
       " [1] 0.6822437 0.6750978 0.6727148 0.6658704 0.6620735 0.6597279 0.6595610\n",
       " [8] 0.6560993 0.6548089 0.6486217 0.6477234 0.6476617 0.6452970 0.6432232\n",
       "[15] 0.0000000 0.0000000 0.0000000\n",
       "\n",
       "$ix\n",
       " [1] 17  6  8  5 11 14 10 13  4  9 12 15 16  7  1  2  3\n"
      ]
     },
     "metadata": {},
     "output_type": "display_data"
    },
    {
     "data": {
      "text/html": [
       "'WRIST'"
      ],
      "text/latex": [
       "'WRIST'"
      ],
      "text/markdown": [
       "'WRIST'"
      ],
      "text/plain": [
       "[1] \"WRIST\""
      ]
     },
     "metadata": {},
     "output_type": "display_data"
    }
   ],
   "source": [
    "bodyfat = data$BODYFAT\n",
    "abdomen = data$ABDOMEN\n",
    "r = rep(0,17)\n",
    "for (i in 4:17){\n",
    "    inv = 1/data[,i]\n",
    "    lm_fit = lm(bodyfat~abdomen+inv)\n",
    "    r[i] = summary(lm_fit)$r.squared\n",
    "}\n",
    "print(r)\n",
    "sort(r, decreasing = T, index.return = T)\n",
    "colnames(data[17])"
   ]
  },
  {
   "cell_type": "code",
   "execution_count": 36,
   "metadata": {},
   "outputs": [
    {
     "data": {
      "text/plain": [
       "\n",
       "Call:\n",
       "lm(formula = bodyfat ~ abdomen + wrist)\n",
       "\n",
       "Residuals:\n",
       "     Min       1Q   Median       3Q      Max \n",
       "-16.3904  -2.9980  -0.0323   2.9656  10.6325 \n",
       "\n",
       "Coefficients:\n",
       "            Estimate Std. Error t value Pr(>|t|)    \n",
       "(Intercept) -5.96249    5.43031  -1.098    0.273    \n",
       "abdomen      0.68156    0.03252  20.957  < 2e-16 ***\n",
       "wrist       -2.09283    0.37043  -5.650 4.48e-08 ***\n",
       "---\n",
       "Signif. codes:  0 '***' 0.001 '**' 0.01 '*' 0.05 '.' 0.1 ' ' 1\n",
       "\n",
       "Residual standard error: 4.198 on 243 degrees of freedom\n",
       "Multiple R-squared:  0.6846,\tAdjusted R-squared:  0.682 \n",
       "F-statistic: 263.8 on 2 and 243 DF,  p-value: < 2.2e-16\n"
      ]
     },
     "metadata": {},
     "output_type": "display_data"
    }
   ],
   "source": [
    "\n",
    "summary(lm(bodyfat~abdomen+wrist))"
   ]
  },
  {
   "cell_type": "code",
   "execution_count": 45,
   "metadata": {},
   "outputs": [
    {
     "data": {
      "text/plain": [
       "\n",
       "Call:\n",
       "lm(formula = bodyfat ~ new + weight_inv)\n",
       "\n",
       "Residuals:\n",
       "     Min       1Q   Median       3Q      Max \n",
       "-17.0657  -3.7949  -0.0569   4.0610  15.7085 \n",
       "\n",
       "Coefficients:\n",
       "            Estimate Std. Error t value Pr(>|t|)    \n",
       "(Intercept)   58.065      3.548  16.367  < 2e-16 ***\n",
       "new         -347.978    101.547  -3.427 0.000717 ***\n",
       "weight_inv  -523.601   1458.830  -0.359 0.719968    \n",
       "---\n",
       "Signif. codes:  0 '***' 0.001 '**' 0.01 '*' 0.05 '.' 0.1 ' ' 1\n",
       "\n",
       "Residual standard error: 5.763 on 243 degrees of freedom\n",
       "Multiple R-squared:  0.4057,\tAdjusted R-squared:  0.4009 \n",
       "F-statistic: 82.96 on 2 and 243 DF,  p-value: < 2.2e-16\n"
      ]
     },
     "metadata": {},
     "output_type": "display_data"
    }
   ],
   "source": [
    "## method 3 (in weibsite)\n",
    "wrist = data$WRIST\n",
    "weight = data$WEIGHT\n",
    "new = wrist/weight\n",
    "weight_inv = 1/weight\n",
    "summary(lm(bodyfat~new+weight_inv))\n"
   ]
  },
  {
   "cell_type": "code",
   "execution_count": 38,
   "metadata": {},
   "outputs": [
    {
     "data": {
      "text/plain": [
       "\n",
       "Call:\n",
       "lm(formula = bodyfat ~ wrist + weight)\n",
       "\n",
       "Residuals:\n",
       "     Min       1Q   Median       3Q      Max \n",
       "-16.3437  -4.1172  -0.0783   4.3951  15.3796 \n",
       "\n",
       "Coefficients:\n",
       "            Estimate Std. Error t value Pr(>|t|)    \n",
       "(Intercept) 14.10003    8.64831   1.630  0.10432    \n",
       "wrist       -1.61539    0.59057  -2.735  0.00669 ** \n",
       "weight       0.19183    0.01888  10.163  < 2e-16 ***\n",
       "---\n",
       "Signif. codes:  0 '***' 0.001 '**' 0.01 '*' 0.05 '.' 0.1 ' ' 1\n",
       "\n",
       "Residual standard error: 5.893 on 243 degrees of freedom\n",
       "Multiple R-squared:  0.3787,\tAdjusted R-squared:  0.3736 \n",
       "F-statistic: 74.07 on 2 and 243 DF,  p-value: < 2.2e-16\n"
      ]
     },
     "metadata": {},
     "output_type": "display_data"
    }
   ],
   "source": [
    "summary(lm(bodyfat~wrist+weight))"
   ]
  },
  {
   "cell_type": "markdown",
   "metadata": {},
   "source": [
    "**method1.1 is the best model according to the R-squared.**"
   ]
  },
  {
   "cell_type": "markdown",
   "metadata": {},
   "source": [
    "## Step 4: Diagnostics"
   ]
  },
  {
   "cell_type": "code",
   "execution_count": 39,
   "metadata": {},
   "outputs": [
    {
     "data": {
      "text/plain": [
       "\n",
       "Call:\n",
       "lm(formula = BODYFAT ~ ABDOMEN + WEIGHT, data = data)\n",
       "\n",
       "Residuals:\n",
       "    Min      1Q  Median      3Q     Max \n",
       "-10.142  -2.964   0.060   2.876   9.783 \n",
       "\n",
       "Coefficients:\n",
       "             Estimate Std. Error t value Pr(>|t|)    \n",
       "(Intercept) -39.76098    2.48506 -16.000  < 2e-16 ***\n",
       "ABDOMEN       0.89369    0.05363  16.664  < 2e-16 ***\n",
       "WEIGHT       -0.13397    0.01952  -6.862 5.61e-11 ***\n",
       "---\n",
       "Signif. codes:  0 '***' 0.001 '**' 0.01 '*' 0.05 '.' 0.1 ' ' 1\n",
       "\n",
       "Residual standard error: 4.087 on 243 degrees of freedom\n",
       "Multiple R-squared:  0.7011,\tAdjusted R-squared:  0.6987 \n",
       "F-statistic:   285 on 2 and 243 DF,  p-value: < 2.2e-16\n"
      ]
     },
     "metadata": {},
     "output_type": "display_data"
    }
   ],
   "source": [
    "method1_1 = lm(BODYFAT~ABDOMEN+WEIGHT, data = data)\n",
    "summary(method1_1)"
   ]
  },
  {
   "cell_type": "code",
   "execution_count": 40,
   "metadata": {},
   "outputs": [
    {
     "data": {
      "image/png": "[encoded data removed]",
      "text/plain": [
       "plot without title"
      ]
     },
     "metadata": {},
     "output_type": "display_data"
    }
   ],
   "source": [
    "plot(method1_1$fitted.values, method1_1$residuals)\n",
    "abline(h=0)"
   ]
  },
  {
   "cell_type": "code",
   "execution_count": 43,
   "metadata": {},
   "outputs": [
    {
     "data": {
      "image/png": "[encoded data removed]",
      "text/plain": [
       "Plot with title \"\""
      ]
     },
     "metadata": {},
     "output_type": "display_data"
    }
   ],
   "source": [
    "opar = par(mfrow=c(2,2))\n",
    "plot(method1_1)\n",
    "par(opar)"
   ]
  },
  {
   "cell_type": "code",
   "execution_count": 46,
   "metadata": {},
   "outputs": [
    {
     "data": {
      "image/png": "[encoded data removed]",
      "text/plain": [
       "Plot with title \"DFFITS plot\""
      ]
     },
     "metadata": {},
     "output_type": "display_data"
    }
   ],
   "source": [
    "### leverage\n",
    "lm.hats = hatvalues(method1_1)\n",
    "plot(lm.hats, type = \"h\", ylab = \"DFFITS\", main = \"DFFITS plot\")\n",
    "text(data[,1], lm.hats, labels = data[,1], cex = 0.8, pos = 1)\n",
    "abline(h = 2*3/dim(data)[1], lty = 2)"
   ]
  },
  {
   "cell_type": "code",
   "execution_count": 52,
   "metadata": {},
   "outputs": [
    {
     "data": {
      "image/png": "[encoded data removed]",
      "text/plain": [
       "Plot with title \"Cook's Distance Plot\""
      ]
     },
     "metadata": {},
     "output_type": "display_data"
    }
   ],
   "source": [
    "lm.cooksD = cooks.distance(method1_1)\n",
    "plot(lm.cooksD, type = \"h\", ylab = \"Cook's Distance\", main = \"Cook's Distance Plot\", ylim =c(0,1))\n",
    "text(lm.cooksD, labels = data[,1], cex = 1)\n",
    "abline(h = qf(0.50,3,dim(data)[1]-3),lty = 2, col = \"red\")"
   ]
  },
  {
   "cell_type": "code",
   "execution_count": 51,
   "metadata": {},
   "outputs": [
    {
     "data": {
      "text/html": [
       "246"
      ],
      "text/latex": [
       "246"
      ],
      "text/markdown": [
       "246"
      ],
      "text/plain": [
       "[1] 246"
      ]
     },
     "metadata": {},
     "output_type": "display_data"
    },
    {
     "data": {
      "text/html": [
       "0.790878708551999"
      ],
      "text/latex": [
       "0.790878708551999"
      ],
      "text/markdown": [
       "0.790878708551999"
      ],
      "text/plain": [
       "[1] 0.7908787"
      ]
     },
     "metadata": {},
     "output_type": "display_data"
    }
   ],
   "source": [
    "dim(data)[1]\n",
    "qf(0.50,3,dim(data)[1]-3)"
   ]
  },
  {
   "cell_type": "code",
   "execution_count": null,
   "metadata": {},
   "outputs": [],
   "source": []
  }
 ],
 "metadata": {
  "kernelspec": {
   "display_name": "R",
   "language": "R",
   "name": "ir"
  },
  "language_info": {
   "codemirror_mode": "r",
   "file_extension": ".r",
   "mimetype": "text/x-r-source",
   "name": "R",
   "pygments_lexer": "r",
   "version": "3.6.1"
  }
 },
 "nbformat": 4,
 "nbformat_minor": 2
}
